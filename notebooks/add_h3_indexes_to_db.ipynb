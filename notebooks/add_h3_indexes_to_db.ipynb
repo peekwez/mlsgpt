{
 "cells": [
  {
   "cell_type": "code",
   "execution_count": 1,
   "metadata": {},
   "outputs": [
    {
     "data": {
      "text/plain": [
       "True"
      ]
     },
     "execution_count": 1,
     "metadata": {},
     "output_type": "execute_result"
    }
   ],
   "source": [
    "import os\n",
    "from pyspark.sql import SparkSession, DataFrame\n",
    "from pyspark.errors import AnalysisException\n",
    "from dotenv import load_dotenv\n",
    "from psycopg import sql\n",
    "from mlsgpt.db import store\n",
    "load_dotenv(\"../.env-deploy\", override=True)"
   ]
  },
  {
   "cell_type": "code",
   "execution_count": 2,
   "metadata": {},
   "outputs": [
    {
     "name": "stderr",
     "output_type": "stream",
     "text": [
      "24/06/06 21:53:01 WARN Utils: Your hostname, marley.local resolves to a loopback address: 127.0.0.1; using 10.0.0.135 instead (on interface en0)\n",
      "24/06/06 21:53:01 WARN Utils: Set SPARK_LOCAL_IP if you need to bind to another address\n",
      "24/06/06 21:53:01 WARN NativeCodeLoader: Unable to load native-hadoop library for your platform... using builtin-java classes where applicable\n",
      "Setting default log level to \"WARN\".\n",
      "To adjust logging level use sc.setLogLevel(newLevel). For SparkR, use setLogLevel(newLevel).\n",
      "24/06/06 21:53:02 WARN Utils: Service 'SparkUI' could not bind on port 4040. Attempting port 4041.\n"
     ]
    }
   ],
   "source": [
    "data_home = \"/Users/kwesi/Desktop/ai/gpts/mlsgpt/data\"\n",
    "jar_files = [\"postgresql-42.7.3.jar\", \"mysql-connector-j-8.0.33.jar\"]\n",
    "jar_opts = \",\".join([f\"{data_home}/jars/{jar}\" for jar in jar_files])\n",
    "warehouse = f\"{data_home}/warehouse\"\n",
    "\n",
    "spark: SparkSession = (\n",
    "    SparkSession.builder\\\n",
    "    .appName(\"MLSGPT\")\n",
    "    .config(\"spark.dynamicAllocation.enabled\", \"true\")\n",
    "    .config(\"spark.shuffle.service.enabled\", \"true\")\n",
    "    .config(\"spark.sql.warehouse.dir\", f\"{warehouse}\")\n",
    "    .config(\"spark.sql.session.timeZone\", \"UTC\")\n",
    "    .config(\"spark.jars\", f\"{jar_opts}\") \n",
    "    .enableHiveSupport()\n",
    "    .getOrCreate()\n",
    ")\n",
    "spark.sparkContext.setLogLevel(\"ERROR\")\n",
    "\n",
    "def read_table(url:str, props:dict, table_name: str, ) -> DataFrame:\n",
    "    try:\n",
    "        return spark.read.jdbc(url=url, table=table_name, properties=props)\n",
    "    except AnalysisException as e:\n",
    "        print(f\"Table {table_name} not found\")\n",
    "        return None\n",
    "    \n",
    "pg_host = os.getenv(\"POSTGRES_HOST\")\n",
    "pg_port = os.getenv(\"POSTGRES_PORT\")\n",
    "pg_db = os.getenv(\"POSTGRES_DB\")\n",
    "pg_user = os.getenv(\"POSTGRES_USER\")\n",
    "pg_pass = os.getenv(\"POSTGRES_PASSWORD\")\n",
    "pg_driver = \"org.postgresql.Driver\"\n",
    "pg_url = f\"jdbc:postgresql://{pg_host}:{pg_port}/{pg_db}\"\n",
    "pg_props = {\"user\": pg_user, \"password\": pg_pass, \"driver\": pg_driver}\n",
    "\n",
    "columns = [\n",
    "    \"ListingID\", \"H3IndexR00\", \"H3IndexR01\", \"H3IndexR02\",\n",
    "    \"H3IndexR03\", \"H3IndexR04\", \"H3IndexR05\", \"H3IndexR06\", \n",
    "    \"H3IndexR07\",\"H3IndexR08\", \"H3IndexR09\", \"H3IndexR10\", \n",
    "    \"H3IndexR11\", \"H3IndexR12\",\"H3IndexR13\", \"H3IndexR14\", \n",
    "    \"H3IndexR15\"\n",
    "]\n",
    "h3_df = (\n",
    "    spark.read.format(\"parquet\")\n",
    "    .load(f\"{data_home}/h3/property.parquet\")\n",
    "    .select(columns)\n",
    ")\n"
   ]
  },
  {
   "cell_type": "code",
   "execution_count": 3,
   "metadata": {},
   "outputs": [],
   "source": [
    "conn = store.create_pg_connection(\"gpts\")\n",
    "cursor = conn.cursor()\n",
    "text = '''\n",
    "INSERT INTO rsbr.h3_index (\"ListingID\", \"H3IndexR00\", \"H3IndexR01\", \"H3IndexR02\", \"H3IndexR03\", \"H3IndexR04\", \"H3IndexR05\", \"H3IndexR06\", \"H3IndexR07\", \"H3IndexR08\", \"H3IndexR09\", \"H3IndexR10\", \"H3IndexR11\", \"H3IndexR12\", \"H3IndexR13\", \"H3IndexR14\", \"H3IndexR15\")\n",
    "VALUES (%s, %s, %s, %s, %s, %s, %s, %s, %s, %s, %s, %s, %s, %s, %s, %s, %s)\n",
    "'''\n",
    "cmd = sql.SQL(text)"
   ]
  },
  {
   "cell_type": "code",
   "execution_count": 4,
   "metadata": {},
   "outputs": [],
   "source": [
    "rows = [tuple(row) for row in h3_df.collect()]"
   ]
  },
  {
   "cell_type": "code",
   "execution_count": 5,
   "metadata": {},
   "outputs": [],
   "source": [
    "cursor.executemany(cmd, rows)\n",
    "conn.commit()"
   ]
  }
 ],
 "metadata": {
  "language_info": {
   "name": "python"
  }
 },
 "nbformat": 4,
 "nbformat_minor": 2
}
