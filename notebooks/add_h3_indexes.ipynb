{
 "cells": [
  {
   "cell_type": "code",
   "execution_count": 1,
   "metadata": {},
   "outputs": [
    {
     "data": {
      "text/plain": [
       "True"
      ]
     },
     "execution_count": 1,
     "metadata": {},
     "output_type": "execute_result"
    }
   ],
   "source": [
    "import os\n",
    "import h3\n",
    "from pyspark.sql import SparkSession, DataFrame\n",
    "from pyspark.sql import functions as F\n",
    "from pyspark.sql import types as T\n",
    "from pyspark.errors import AnalysisException\n",
    "from dotenv import load_dotenv\n",
    "\n",
    "load_dotenv(\"../.env-deploy\", override=True)"
   ]
  },
  {
   "cell_type": "code",
   "execution_count": 2,
   "metadata": {},
   "outputs": [
    {
     "name": "stderr",
     "output_type": "stream",
     "text": [
      "24/06/06 20:29:58 WARN Utils: Your hostname, marley.local resolves to a loopback address: 127.0.0.1; using 10.0.0.135 instead (on interface en0)\n",
      "24/06/06 20:29:58 WARN Utils: Set SPARK_LOCAL_IP if you need to bind to another address\n",
      "24/06/06 20:29:58 WARN NativeCodeLoader: Unable to load native-hadoop library for your platform... using builtin-java classes where applicable\n",
      "Setting default log level to \"WARN\".\n",
      "To adjust logging level use sc.setLogLevel(newLevel). For SparkR, use setLogLevel(newLevel).\n"
     ]
    }
   ],
   "source": [
    "data_home = \"/Users/kwesi/Desktop/ai/gpts/mlsgpt/data\"\n",
    "jar_files = [\"postgresql-42.7.3.jar\", \"mysql-connector-j-8.0.33.jar\"]\n",
    "jar_opts = \",\".join([f\"{data_home}/jars/{jar}\" for jar in jar_files])\n",
    "warehouse = f\"{data_home}/warehouse\"\n",
    "\n",
    "spark: SparkSession = (\n",
    "    SparkSession.builder\\\n",
    "    .appName(\"MLSGPT\")\n",
    "    .config(\"spark.dynamicAllocation.enabled\", \"true\")\n",
    "    .config(\"spark.shuffle.service.enabled\", \"true\")\n",
    "    .config(\"spark.sql.warehouse.dir\", f\"{warehouse}\")\n",
    "    .config(\"spark.sql.session.timeZone\", \"UTC\")\n",
    "    .config(\"spark.jars\", f\"{jar_opts}\") \n",
    "    .enableHiveSupport()\n",
    "    .getOrCreate()\n",
    ")\n",
    "spark.sparkContext.setLogLevel(\"ERROR\")"
   ]
  },
  {
   "cell_type": "code",
   "execution_count": 3,
   "metadata": {},
   "outputs": [],
   "source": [
    "def read_table(url:str, props:dict, table_name: str, ) -> DataFrame:\n",
    "    try:\n",
    "        return spark.read.jdbc(url=url, table=table_name, properties=props)\n",
    "    except AnalysisException as e:\n",
    "        print(f\"Table {table_name} not found\")\n",
    "        return None\n",
    "    \n",
    "pg_host = os.getenv(\"POSTGRES_HOST\")\n",
    "pg_port = os.getenv(\"POSTGRES_PORT\")\n",
    "pg_db = os.getenv(\"POSTGRES_DB\")\n",
    "pg_user = os.getenv(\"POSTGRES_USER\")\n",
    "pg_pass = os.getenv(\"POSTGRES_PASSWORD\")\n",
    "pg_url = f\"jdbc:postgresql://{pg_host}:{pg_port}/{pg_db}\"\n",
    "pg_props = {\"user\": pg_user, \"password\": pg_pass, \"driver\": \"org.postgresql.Driver\"}"
   ]
  },
  {
   "cell_type": "code",
   "execution_count": 4,
   "metadata": {},
   "outputs": [],
   "source": [
    "@F.udf(\"string\")\n",
    "def h3_index(lat:float, lng:float, resolution:int) -> str:\n",
    "    return h3.geo_to_h3(lat, lng, resolution)\n",
    "columns = [\n",
    "    \"property_id\", \"ListingID\", \"City\", \n",
    "    F.col(\"Latitude\").cast(T.DoubleType()), \n",
    "    F.col(\"Longitude\").cast(T.DoubleType())\n",
    "]\n",
    "df = (\n",
    "    read_table(pg_url, pg_props, \"rsbr.property\")\n",
    "    .select(*columns)\n",
    "    .withColumn(\"H3IndexR15\", h3_index(F.col(\"Latitude\"), F.col(\"Longitude\"), F.lit(15)))\n",
    "    .withColumn(\"H3IndexR14\", h3_index(F.col(\"Latitude\"), F.col(\"Longitude\"), F.lit(14)))\n",
    "    .withColumn(\"H3IndexR13\", h3_index(F.col(\"Latitude\"), F.col(\"Longitude\"), F.lit(13)))\n",
    "    .withColumn(\"H3IndexR12\", h3_index(F.col(\"Latitude\"), F.col(\"Longitude\"), F.lit(12)))\n",
    "    .withColumn(\"H3IndexR11\", h3_index(F.col(\"Latitude\"), F.col(\"Longitude\"), F.lit(11)))\n",
    "    .withColumn(\"H3IndexR10\", h3_index(F.col(\"Latitude\"), F.col(\"Longitude\"), F.lit(10)))\n",
    "    .withColumn(\"H3IndexR09\", h3_index(F.col(\"Latitude\"), F.col(\"Longitude\"), F.lit(9)))\n",
    "    .withColumn(\"H3IndexR08\", h3_index(F.col(\"Latitude\"), F.col(\"Longitude\"), F.lit(8)))\n",
    "    .withColumn(\"H3IndexR07\", h3_index(F.col(\"Latitude\"), F.col(\"Longitude\"), F.lit(7)))\n",
    "    .withColumn(\"H3IndexR06\", h3_index(F.col(\"Latitude\"), F.col(\"Longitude\"), F.lit(6)))\n",
    "    .withColumn(\"H3IndexR05\", h3_index(F.col(\"Latitude\"), F.col(\"Longitude\"), F.lit(5)))\n",
    "    .withColumn(\"H3IndexR04\", h3_index(F.col(\"Latitude\"), F.col(\"Longitude\"), F.lit(4)))\n",
    "    .withColumn(\"H3IndexR03\", h3_index(F.col(\"Latitude\"), F.col(\"Longitude\"), F.lit(3)))\n",
    "    .withColumn(\"H3IndexR02\", h3_index(F.col(\"Latitude\"), F.col(\"Longitude\"), F.lit(2)))\n",
    "    .withColumn(\"H3IndexR01\", h3_index(F.col(\"Latitude\"), F.col(\"Longitude\"), F.lit(1)))\n",
    "    .withColumn(\"H3IndexR00\", h3_index(F.col(\"Latitude\"), F.col(\"Longitude\"), F.lit(0)))\n",
    ")"
   ]
  },
  {
   "cell_type": "code",
   "execution_count": 5,
   "metadata": {},
   "outputs": [
    {
     "name": "stderr",
     "output_type": "stream",
     "text": [
      "                                                                                \r"
     ]
    },
    {
     "data": {
      "text/plain": [
       "(('Total', 38881),\n",
       " ('City', 696),\n",
       " ('H3IndexR15', 31518),\n",
       " ('H3IndexR13', 30894),\n",
       " ('H3IndexR11', 28375),\n",
       " ('H3IndexR09', 18272),\n",
       " ('H3IndexR07', 4460),\n",
       " ('H3IndexR05', 548))"
      ]
     },
     "execution_count": 5,
     "metadata": {},
     "output_type": "execute_result"
    }
   ],
   "source": [
    "(\n",
    "    (\"Total\", df.count()),\n",
    "    (\"City\", df.select(\"City\").distinct().count()),\n",
    "    (\"H3IndexR15\", df.select(\"H3IndexR15\").distinct().count()), \n",
    "    (\"H3IndexR13\", df.select(\"H3IndexR13\").distinct().count()), \n",
    "    (\"H3IndexR11\", df.select(\"H3IndexR11\").distinct().count()), \n",
    "    (\"H3IndexR09\", df.select(\"H3IndexR09\").distinct().count()), \n",
    "    (\"H3IndexR07\", df.select(\"H3IndexR07\").distinct().count()), \n",
    "    (\"H3IndexR05\", df.select(\"H3IndexR05\").distinct().count())\n",
    ")"
   ]
  },
  {
   "cell_type": "code",
   "execution_count": 6,
   "metadata": {},
   "outputs": [
    {
     "name": "stderr",
     "output_type": "stream",
     "text": [
      "                                                                                \r"
     ]
    }
   ],
   "source": [
    "columns = [\n",
    "    \"property_id\", \"ListingID\", \"H3IndexR15\", \"H3IndexR14\", \"H3IndexR13\", \n",
    "    \"H3IndexR12\", \"H3IndexR11\",\"H3IndexR10\", \"H3IndexR09\", \"H3IndexR08\", \n",
    "    \"H3IndexR07\", \"H3IndexR06\",\"H3IndexR05\", \"H3IndexR04\", \"H3IndexR03\", \n",
    "    \"H3IndexR02\", \"H3IndexR01\", \"H3IndexR00\"\n",
    "]\n",
    "(\n",
    "    df.select(*columns).write.format(\"parquet\")\n",
    "    .mode(\"overwrite\").save(f\"{data_home}/h3/property.parquet\")\n",
    ")"
   ]
  }
 ],
 "metadata": {
  "language_info": {
   "name": "python"
  }
 },
 "nbformat": 4,
 "nbformat_minor": 2
}
