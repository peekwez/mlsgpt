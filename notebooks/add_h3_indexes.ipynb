{
 "cells": [
  {
   "cell_type": "code",
   "execution_count": 12,
   "metadata": {},
   "outputs": [
    {
     "data": {
      "text/plain": [
       "True"
      ]
     },
     "execution_count": 12,
     "metadata": {},
     "output_type": "execute_result"
    }
   ],
   "source": [
    "import os\n",
    "import h3\n",
    "from pyspark.sql import SparkSession, DataFrame, Row\n",
    "from pyspark.sql import functions as F\n",
    "from pyspark.sql import types as T\n",
    "from pyspark.errors import AnalysisException\n",
    "from dotenv import load_dotenv\n",
    "\n",
    "load_dotenv(\"../.env-deploy\", override=True)"
   ]
  },
  {
   "cell_type": "code",
   "execution_count": 2,
   "metadata": {},
   "outputs": [
    {
     "name": "stderr",
     "output_type": "stream",
     "text": [
      "24/06/04 21:38:07 WARN Utils: Your hostname, marley.local resolves to a loopback address: 127.0.0.1; using 10.0.0.135 instead (on interface en0)\n",
      "24/06/04 21:38:07 WARN Utils: Set SPARK_LOCAL_IP if you need to bind to another address\n",
      "24/06/04 21:38:07 WARN NativeCodeLoader: Unable to load native-hadoop library for your platform... using builtin-java classes where applicable\n",
      "Setting default log level to \"WARN\".\n",
      "To adjust logging level use sc.setLogLevel(newLevel). For SparkR, use setLogLevel(newLevel).\n"
     ]
    }
   ],
   "source": [
    "data_home = \"/Users/kwesi/Desktop/ai/gpts/mlsgpt/data\"\n",
    "jar_files = [\"postgresql-42.7.3.jar\", \"mysql-connector-j-8.0.33.jar\"]\n",
    "jar_opts = \",\".join([f\"{data_home}/jars/{jar}\" for jar in jar_files])\n",
    "warehouse = f\"{data_home}/warehouse\"\n",
    "\n",
    "spark: SparkSession = (\n",
    "    SparkSession.builder\\\n",
    "    .appName(\"MLSGPT\")\n",
    "    .config(\"spark.dynamicAllocation.enabled\", \"true\")\n",
    "    .config(\"spark.shuffle.service.enabled\", \"true\")\n",
    "    .config(\"spark.sql.warehouse.dir\", f\"{warehouse}\")\n",
    "    .config(\"spark.sql.session.timeZone\", \"UTC\")\n",
    "    .config(\"spark.jars\", f\"{jar_opts}\") \n",
    "    .enableHiveSupport()\n",
    "    .getOrCreate()\n",
    ")\n",
    "spark.sparkContext.setLogLevel(\"ERROR\")"
   ]
  },
  {
   "cell_type": "code",
   "execution_count": 4,
   "metadata": {},
   "outputs": [],
   "source": [
    "def read_table(url:str, props:dict, table_name: str, ) -> DataFrame:\n",
    "    try:\n",
    "        return spark.read.jdbc(url=url, table=table_name, properties=props)\n",
    "    except AnalysisException as e:\n",
    "        print(f\"Table {table_name} not found\")\n",
    "        return None\n",
    "    \n",
    "pg_url = \"jdbc:postgresql://{}:{}/{}\".format(os.getenv(\"POSTGRES_HOST\"), os.getenv(\"POSTGRES_PORT\"),os.getenv(\"POSTGRES_DB\"))\n",
    "pg_props = {\n",
    "    \"user\": os.getenv(\"POSTGRES_USER\"),\n",
    "    \"password\": os.getenv(\"POSTGRES_PASSWORD\"),\n",
    "    \"driver\": \"org.postgresql.Driver\"\n",
    "}"
   ]
  },
  {
   "cell_type": "code",
   "execution_count": 31,
   "metadata": {},
   "outputs": [],
   "source": [
    "@F.udf(\"string\")\n",
    "def h3_index(lat:float, lon:float, resolution:int) -> str:\n",
    "    return h3.geo_to_h3(lat, lon, resolution)\n",
    "\n",
    "df = (\n",
    "    read_table(pg_url, pg_props, \"rsbr.property\")\n",
    "    .select(\"property_id\", \"ListingID\", \"City\", F.col(\"Latitude\").cast(T.DoubleType()), F.col(\"Longitude\").cast(T.DoubleType()))\n",
    "    .withColumn(\"H3IndexR10\", h3_index(F.col(\"Latitude\"), F.col(\"Longitude\"), F.lit(10)))\n",
    "    .withColumn(\"H3IndexR09\",  h3_index(F.col(\"Latitude\"), F.col(\"Longitude\"), F.lit(9)))\n",
    "    .withColumn(\"H3IndexR08\", h3_index(F.col(\"Latitude\"), F.col(\"Longitude\"), F.lit(8)))\n",
    "    .withColumn(\"H3IndexR07\", h3_index(F.col(\"Latitude\"), F.col(\"Longitude\"), F.lit(7)))\n",
    "    .withColumn(\"H3IndexR06\", h3_index(F.col(\"Latitude\"), F.col(\"Longitude\"), F.lit(6)))\n",
    "    .withColumn(\"H3IndexR05\", h3_index(F.col(\"Latitude\"), F.col(\"Longitude\"), F.lit(5)))\n",
    ")"
   ]
  },
  {
   "cell_type": "code",
   "execution_count": 32,
   "metadata": {},
   "outputs": [
    {
     "data": {
      "text/plain": [
       "(('Total', 38881),\n",
       " ('City', 696),\n",
       " ('H3IndexR10', 24898),\n",
       " ('H3IndexR09', 18272),\n",
       " ('H3IndexR08', 9429),\n",
       " ('H3IndexR07', 4460),\n",
       " ('H3IndexR06', 1803),\n",
       " ('H3IndexR05', 548))"
      ]
     },
     "execution_count": 32,
     "metadata": {},
     "output_type": "execute_result"
    }
   ],
   "source": [
    "(\n",
    "    (\"Total\", df.count()),\n",
    "    (\"City\", df.select(\"City\").distinct().count()),\n",
    "    (\"H3IndexR10\", df.select(\"H3IndexR10\").distinct().count()), \n",
    "    (\"H3IndexR09\", df.select(\"H3IndexR09\").distinct().count()), \n",
    "    (\"H3IndexR08\", df.select(\"H3IndexR08\").distinct().count()), \n",
    "    (\"H3IndexR07\", df.select(\"H3IndexR07\").distinct().count()), \n",
    "    (\"H3IndexR06\", df.select(\"H3IndexR06\").distinct().count()), \n",
    "    (\"H3IndexR05\", df.select(\"H3IndexR05\").distinct().count())\n",
    ")"
   ]
  },
  {
   "cell_type": "code",
   "execution_count": 33,
   "metadata": {},
   "outputs": [
    {
     "name": "stderr",
     "output_type": "stream",
     "text": [
      "                                                                                \r"
     ]
    }
   ],
   "source": [
    "df.write.mode(\"overwrite\").parquet(f\"{data_home}/h3/property.parquet\")"
   ]
  },
  {
   "cell_type": "code",
   "execution_count": 35,
   "metadata": {},
   "outputs": [
    {
     "name": "stdout",
     "output_type": "stream",
     "text": [
      "-RECORD 0----------------------\n",
      " property_id | 6014467         \n",
      " ListingID   | 26638517        \n",
      " City        | toronto         \n",
      " Latitude    | 43.6740303      \n",
      " Longitude   | -79.3904724     \n",
      " H3IndexR10  | 8a2b9bc702d7fff \n",
      " H3IndexR09  | 892b9bc702fffff \n",
      " H3IndexR08  | 882b9bc703fffff \n",
      " H3IndexR07  | 872b9bc70ffffff \n",
      " H3IndexR06  | 862b9bc77ffffff \n",
      " H3IndexR05  | 852b9bc7fffffff \n",
      "-RECORD 1----------------------\n",
      " property_id | 6014480         \n",
      " ListingID   | 26614087        \n",
      " City        | toronto         \n",
      " Latitude    | 43.7763214      \n",
      " Longitude   | -79.414032      \n",
      " H3IndexR10  | 8a2b9bc21a87fff \n",
      " H3IndexR09  | 892b9bc21abffff \n",
      " H3IndexR08  | 882b9bc21bfffff \n",
      " H3IndexR07  | 872b9bc21ffffff \n",
      " H3IndexR06  | 862b9bc27ffffff \n",
      " H3IndexR05  | 852b9bc3fffffff \n",
      "-RECORD 2----------------------\n",
      " property_id | 6014481         \n",
      " ListingID   | 26458403        \n",
      " City        | toronto         \n",
      " Latitude    | 43.7593422      \n",
      " Longitude   | -79.3321152     \n",
      " H3IndexR10  | 8a2b9bd5132ffff \n",
      " H3IndexR09  | 892b9bd5133ffff \n",
      " H3IndexR08  | 882b9bd513fffff \n",
      " H3IndexR07  | 872b9bd51ffffff \n",
      " H3IndexR06  | 862b9bd57ffffff \n",
      " H3IndexR05  | 852b9bd7fffffff \n",
      "-RECORD 3----------------------\n",
      " property_id | 6014493         \n",
      " ListingID   | 26611840        \n",
      " City        | toronto         \n",
      " Latitude    | 43.6504745      \n",
      " Longitude   | -79.368515      \n",
      " H3IndexR10  | 8a2b9bc44487fff \n",
      " H3IndexR09  | 892b9bc444bffff \n",
      " H3IndexR08  | 882b9bc445fffff \n",
      " H3IndexR07  | 872b9bc44ffffff \n",
      " H3IndexR06  | 862b9bc47ffffff \n",
      " H3IndexR05  | 852b9bc7fffffff \n",
      "-RECORD 4----------------------\n",
      " property_id | 6014494         \n",
      " ListingID   | 26234495        \n",
      " City        | toronto         \n",
      " Latitude    | 43.7670021      \n",
      " Longitude   | -79.3711548     \n",
      " H3IndexR10  | 8a2b9bd53c4ffff \n",
      " H3IndexR09  | 892b9bd53c7ffff \n",
      " H3IndexR08  | 882b9bd531fffff \n",
      " H3IndexR07  | 872b9bd53ffffff \n",
      " H3IndexR06  | 862b9bd57ffffff \n",
      " H3IndexR05  | 852b9bd7fffffff \n",
      "only showing top 5 rows\n",
      "\n"
     ]
    }
   ],
   "source": [
    "df.show(vertical=True, n=5, truncate=False)"
   ]
  }
 ],
 "metadata": {
  "language_info": {
   "name": "python"
  }
 },
 "nbformat": 4,
 "nbformat_minor": 2
}
