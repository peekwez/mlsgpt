{
 "cells": [
  {
   "cell_type": "code",
   "execution_count": null,
   "metadata": {},
   "outputs": [],
   "source": [
    "import re\n",
    "import ollama\n",
    "from rich.pretty import pprint\n",
    "from dotenv import load_dotenv\n",
    "\n",
    "from mlsgpt.dbv2 import store, models, schema\n",
    "load_dotenv(\"../.env-deploy\", override=True)"
   ]
  },
  {
   "cell_type": "code",
   "execution_count": null,
   "metadata": {},
   "outputs": [],
   "source": [
    "reader = store.DataReader()\n",
    "props = [models.Property.model_validate(prop) for prop in reader.get_properties()]"
   ]
  },
  {
   "cell_type": "code",
   "execution_count": null,
   "metadata": {},
   "outputs": [],
   "source": [
    "system_prompt = open(\"summary_system_prompt.md\").read()\n",
    "prompt_template = \"Description JSON:\\n```json\\n{}\\n```\""
   ]
  },
  {
   "cell_type": "code",
   "execution_count": null,
   "metadata": {},
   "outputs": [],
   "source": [
    "def parse_text(text: str) -> str:\n",
    "    extracted = \"\"\n",
    "    match = re.search(r'text\\n(.*?)', text, re.DOTALL) \n",
    "    if match: \n",
    "        extracted = match.group(1) \n",
    "        return extracted"
   ]
  },
  {
   "cell_type": "code",
   "execution_count": null,
   "metadata": {},
   "outputs": [],
   "source": [
    "def summarize(prop:models.Property) -> str:\n",
    "    messages = [\n",
    "        {\"role\": \"system\", \"content\": system_prompt},\n",
    "        {\"role\": \"user\", \"content\": prompt_template.format(prop.model_dump_json())}\n",
    "    ]\n",
    "    response = ollama.chat(messages=messages, model=\"mistral\")\n",
    "    return response"
   ]
  },
  {
   "cell_type": "code",
   "execution_count": null,
   "metadata": {},
   "outputs": [],
   "source": [
    "prop = models.Property.model_validate(props[0])\n",
    "response = summarize(prop)"
   ]
  },
  {
   "cell_type": "code",
   "execution_count": null,
   "metadata": {},
   "outputs": [],
   "source": [
    "# print(response[\"message\"][\"content\"])"
   ]
  },
  {
   "cell_type": "code",
   "execution_count": null,
   "metadata": {},
   "outputs": [],
   "source": [
    "# import concurrent.futures\n",
    "\n",
    "# # Define a function to process a batch of embeddings\n",
    "# def process_batch(batch):\n",
    "#     with concurrent.futures.ThreadPoolExecutor(100) as executor:\n",
    "#         futures = []\n",
    "#         for data in batch:\n",
    "#             futures.append(executor.submit(summarize, data))\n",
    "\n",
    "#         results = []\n",
    "#         for future in concurrent.futures.as_completed(futures):\n",
    "#             results.append(future.result())\n",
    "#     return results\n",
    "\n",
    "# # Split the 'to_embed' list into batches of 1000\n",
    "# batch_size = 100\n",
    "# size = len(props)\n",
    "# batches = [props[i:i+batch_size] for i in range(0, size, batch_size)]\n",
    "\n",
    "# _schema = T.StructType(\n",
    "#     [\n",
    "#         T.StructField(\"ListingID\", T.StringType(), False),\n",
    "#         T.StructField(\"Summary\", T.TextType(), False),\n",
    "#         T.StructField(\"Embedding\", T.StringType(), False)\n",
    "#     ]\n",
    "# )\n",
    "\n",
    "# print(f\"Processing {len(props)} records in {len(batches)} batches of {batch_size} records each\")\n",
    "# total_processed = 0\n",
    "# for i, batch in enumerate(batches):\n",
    "#     if i +  1 > 275:\n",
    "#         rows = process_batch(batch)\n",
    "#         df = spark.createDataFrame(rows, _schema)\n",
    "#         df.write.csv(f\"{data_home}/summaries/batch{str(i+1).zfill(6)}.csv\", mode=\"overwrite\", header=True)\n",
    "#         total_processed += len(batch)\n",
    "#         print(f\"Processed batch {i+1} of {len(batches)} for ({total_processed} of {size}) records\")"
   ]
  }
 ],
 "metadata": {
  "kernelspec": {
   "display_name": ".venv",
   "language": "python",
   "name": "python3"
  },
  "language_info": {
   "codemirror_mode": {
    "name": "ipython",
    "version": 3
   },
   "file_extension": ".py",
   "mimetype": "text/x-python",
   "name": "python",
   "nbconvert_exporter": "python",
   "pygments_lexer": "ipython3",
   "version": "3.12.1"
  }
 },
 "nbformat": 4,
 "nbformat_minor": 2
}
