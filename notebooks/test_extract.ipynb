{
 "cells": [
  {
   "cell_type": "code",
   "execution_count": 1,
   "metadata": {},
   "outputs": [],
   "source": [
    "from mlsgpt import tasks\n",
    "stream = \"mls:extract\"\n",
    "r = tasks.get_redis_client()"
   ]
  },
  {
   "cell_type": "code",
   "execution_count": 2,
   "metadata": {},
   "outputs": [],
   "source": [
    "data = [\n",
    "    # {\n",
    "    #     \"name\": \"2393BronteCompsSmall.pdf\",\n",
    "    #     \"id\": \"file-XFlOqJYTPBPwMZE3IopCBv1Z\",\n",
    "    #     \"mime_type\": \"application/pdf\",\n",
    "    #     \"download_link\": \"https://www.dropbox.com/scl/fi/fj4lihejd9x49krli2x7d/2393BronteCompsSmall.pdf?rlkey=ttl5mzgwboe5qohvnw6rkr5z1&dl=1\"\n",
    "    # },\n",
    "    # {\n",
    "    #     \"name\": \"2393BronteCompsMedium.pdf\",\n",
    "    #     \"id\": \"file-XFlOqJYTPBPwMZE3IopCBv1Q\",\n",
    "    #     \"mime_type\": \"application/pdf\",\n",
    "    #     \"download_link\": \"https://www.dropbox.com/scl/fi/4746jf8ug5qcemhnj6aco/2393BronteCompsMedium.pdf?rlkey=n0fhhqjtlonrsi6romep5tu6g&dl=1\"\n",
    "    # }\n",
    "    {\n",
    "        \"name\": \"2393BronteComps.pdf\",\n",
    "        \"id\": \"file-XFlOqJYTPBPwMZE3IopCBv1G\",\n",
    "        \"mime_type\": \"application/pdf\",\n",
    "        \"download_link\": \"https://www.dropbox.com/scl/fi/8u5fbrk3xdg0z0v68rtbu/2393BronteComps.pdf?rlkey=fhy2gq4xixwkubmpm5lr7gnh0&st=7v1xyg8g&dl=1\"\n",
    "    },\n",
    "    {\n",
    "        \"name\": \"2393NatashaComps.pdf\",\n",
    "        \"id\": \"file-XFlOqJYTPBPwMZE3IopCBv1W\",\n",
    "        \"mime_type\": \"application/pdf\",\n",
    "        \"download_link\": \"https://www.dropbox.com/scl/fi/ccivdqry0uv2ewnh7rh8h/2338NatashaComps.pdf?rlkey=hrok5oon8rw23nn4mur3mosi7&st=f0j3a6u9&dl=1\"\n",
    "    }\n",
    "]\n",
    "ids = [r.xadd(stream,d) for d in data]"
   ]
  }
 ],
 "metadata": {
  "kernelspec": {
   "display_name": ".venv",
   "language": "python",
   "name": "python3"
  },
  "language_info": {
   "codemirror_mode": {
    "name": "ipython",
    "version": 3
   },
   "file_extension": ".py",
   "mimetype": "text/x-python",
   "name": "python",
   "nbconvert_exporter": "python",
   "pygments_lexer": "ipython3",
   "version": "3.12.1"
  }
 },
 "nbformat": 4,
 "nbformat_minor": 2
}
