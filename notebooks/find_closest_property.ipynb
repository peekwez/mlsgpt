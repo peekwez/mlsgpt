{
 "cells": [
  {
   "cell_type": "code",
   "execution_count": 4,
   "metadata": {},
   "outputs": [
    {
     "data": {
      "text/plain": [
       "True"
      ]
     },
     "execution_count": 4,
     "metadata": {},
     "output_type": "execute_result"
    }
   ],
   "source": [
    "from rich.pretty import pprint\n",
    "from dotenv import load_dotenv\n",
    "from mlsgpt.dbv2 import store\n",
    "load_dotenv(\"../.env-deploy\", override=True)"
   ]
  },
  {
   "cell_type": "code",
   "execution_count": 5,
   "metadata": {},
   "outputs": [],
   "source": [
    "reader = store.DataReader()"
   ]
  },
  {
   "cell_type": "code",
   "execution_count": 8,
   "metadata": {},
   "outputs": [
    {
     "name": "stdout",
     "output_type": "stream",
     "text": [
      "Properties near 440 Bathurst St, Toronto, ON M5T 2S6, Canada\n",
      "=====================================\n",
      "31 LIPPINCOTT ST, toronto, Ontario, M5T2R6\n",
      "190 MARKHAM ST, toronto, Ontario, M6J2G6\n",
      "#PH09 -308 PALMERSTON AVE, toronto, Ontario, M6J3X9\n",
      "179 PALMERSTON AVE, toronto, Ontario, M6J2J3\n",
      "46 BORDEN ST, toronto, Ontario, M5S2M9\n",
      "11 1/2 PALMERSTON AVE, toronto, Ontario, M6J2H9\n",
      "#310 -205 MANNING AVE, toronto, Ontario, M6J2K7\n",
      "223 MANNING AVE, toronto, Ontario, M6J2K8\n",
      "#2306 -35 BALES AVE, toronto, Ontario, M2N4S9\n",
      "660 DUNDAS ST W, toronto, Ontario, M5T1H9\n",
      "#508 -297 COLLEGE ST, toronto, Ontario, M5T1S2\n",
      "473 EUCLID AVE, toronto, Ontario, M6G2T1\n",
      "102 ULSTER ST, toronto, Ontario, M5S1G1\n",
      "180 LIPPINCOTT ST, toronto, Ontario, M5S2P1\n",
      "\n",
      "\n",
      "Properties near 21 Lippincott St, Toronto, ON M5T 2R5, Canada\n",
      "=====================================\n",
      "31 LIPPINCOTT ST, toronto, Ontario, M5T2R6\n",
      "190 MARKHAM ST, toronto, Ontario, M6J2G6\n",
      "179 PALMERSTON AVE, toronto, Ontario, M6J2J3\n",
      "#2306 -35 BALES AVE, toronto, Ontario, M2N4S9\n",
      "660 DUNDAS ST W, toronto, Ontario, M5T1H9\n",
      "#508 -297 COLLEGE ST, toronto, Ontario, M5T1S2\n",
      "#PH09 -308 PALMERSTON AVE, toronto, Ontario, M6J3X9\n",
      "46 BORDEN ST, toronto, Ontario, M5S2M9\n",
      "11 1/2 PALMERSTON AVE, toronto, Ontario, M6J2H9\n",
      "#310 -205 MANNING AVE, toronto, Ontario, M6J2K7\n",
      "180 LIPPINCOTT ST, toronto, Ontario, M5S2P1\n",
      "\n",
      "\n",
      "Properties near 5 Delabo Dr, North York, ON M3C 1W4, Canada\n",
      "=====================================\n",
      "#9 -365 MURRAY ROSS PKWY, toronto, Ontario, M3J3T7\n",
      "12 ALDWINCKLE HTS, toronto, Ontario, M3J3S6\n",
      "66 BOWSFIELD RD, toronto, Ontario, M3J3R4\n",
      "23 BOOT TERR, toronto, Ontario, M3J0A1\n",
      "#305 -455 SENTINEL RD, toronto, Ontario, M3J1V5\n",
      "#109 -37 FOUR WINDS DR, toronto, Ontario, M3J1K7\n",
      "23 HACKETT AVE, toronto, Ontario, M3J0C7\n",
      "70 HAYNES AVE, toronto, Ontario, M3J0C1\n",
      "13 SAYWELL AVE, toronto, Ontario, M3J0G2\n",
      "#902 -25 FOUR WINDS DR, toronto, Ontario, M3J1K8\n",
      "\n",
      "\n",
      "Properties near 760 Sheppard Ave W, North York, ON M3H 5T6, Canada\n",
      "=====================================\n",
      "#508 -760 SHEPPARD AVE W, toronto, Ontario, M3H2S8\n",
      "#515 -760 SHEPPARD AVE W, toronto, Ontario, M3H0B3\n",
      "#PH #803 -801 SHEPPARD AVE W, toronto, Ontario, M3H2T3\n",
      "761 SHEPPARD AVE W, toronto, Ontario, M3H2S9\n",
      "180 COCKSFIELD AVE, toronto, Ontario, M3H3T5\n",
      "83 COCKSFIELD AVE, toronto, Ontario, M3H3T1\n",
      "#702 -701 SHEPPARD AVE W, toronto, Ontario, M3H0B2\n",
      "#415 -701 SHEPPARD AVE W, toronto, Ontario, M3H0B2\n",
      "194 COCKSFIELD AVE, toronto, Ontario, M3H3T5\n",
      "89 CODSELL AVE, toronto, Ontario, M3H3W2\n",
      "#37 -861 SHEPPARD AVE W, toronto, Ontario, M3H2T4\n",
      "#66 -861 SHEPPARD AVE W, toronto, Ontario, M3H2T4\n",
      "#61 BLKB -861 SHEPPARD AVE W, toronto, Ontario, M3H0E9\n",
      "#8 -851 SHEPPARD AVE W, toronto, Ontario, M3H2T4\n",
      "131 SEARLE AVE, toronto, Ontario, M3H4B1\n",
      "74 REINER RD, toronto, Ontario, M3H2L5\n",
      "53 MCALLISTER RD, toronto, Ontario, M3H2N1\n",
      "\n",
      "\n",
      "Properties near 2401 Keele St, North York, ON M6L 2N9, Canada\n",
      "=====================================\n",
      "#1806 -1455 LAWRENCE AVE W, toronto, Ontario, M6L1B1\n",
      "#1801 -1455 LAWRENCE AVE W, toronto, Ontario, M6L1B1\n",
      "#1808 -1461 LAWRENCE AVE W, toronto, Ontario, M6L0A4\n",
      "28 BATTERSEA CRES, toronto, Ontario, M6L1G8\n",
      "20 GRACEFIELD AVE, toronto, Ontario, M6L1L1\n",
      "1516 LAWRENCE AVE W, toronto, Ontario, M6L1B6\n",
      "1498 LAWRENCE AVE W, toronto, Ontario, M6L1B6\n",
      "\n",
      "\n",
      "Properties near 71 Mitchell Pl, Newmarket, ON L3Y 0C7, Canada\n",
      "=====================================\n",
      "#289 -240 DAVIS DR W, newmarket, Ontario, L3Y4V9\n",
      "#164 -11 LYTHAM GREEN CIRC, newmarket, Ontario, L3Y0C7\n",
      "#2-LOT98 -11 LYTHAM  GRN CIRC, newmarket, Ontario, L3Y0C7\n",
      "#14 -24 LYTHAM GREEN CIRC, newmarket, Ontario, L3Y4V9\n",
      "#214 -11 LYTHAM GREEN CIRC, newmarket, Ontario, L3Y0C7\n",
      "#232 -11 LYTHAM GREEN CIRC, newmarket, Ontario, L3Y0C7\n",
      "#24 -26 LYTHAM GREEN CIRC, newmarket, Ontario, L3Y4V9\n",
      "#57 -11 LYTHAM GRN CIRC, newmarket, Ontario, L3Y0C7\n",
      "#26 -11 LYTHAM GREEN CIRC, newmarket, Ontario, L3Y0C7\n",
      "#14 -15 LYTHAM GREEN CIRC, newmarket, Ontario, L3T0C7\n",
      "#25 -15 LYTHAM GREEN CRCT, newmarket, Ontario, L3Y0C7\n",
      "#16 -14 LYTHAM GREEN CIRC, newmarket, Ontario, L3Y0C7\n",
      "#143 -15 LYTHAM GREEN CIRC E, newmarket, Ontario, L3W0C7\n",
      "#126 -15 LYTHAM GREEN CIRC, newmarket, Ontario, L3W0C7\n",
      "123 BRAVO LANE, newmarket, Ontario, L3X0L2\n",
      "207 VANTAGE LOOP, newmarket, Ontario, L3X0L4\n",
      "124 SOLSTICE CIRC, newmarket, Ontario, L3Y4V9\n",
      "62 DELANO WAY, newmarket, Ontario, L3Y4V9\n",
      "295 REG HARRISON TR, newmarket, Ontario, L3X0M2\n",
      "\n",
      "\n"
     ]
    }
   ],
   "source": [
    "addresses = [\n",
    "    \"440 Bathurst St, Toronto, ON M5T 2S6, Canada\",\n",
    "    \"21 Lippincott St, Toronto, ON M5T 2R5, Canada\",\n",
    "    \"5 Delabo Dr, North York, ON M3C 1W4, Canada\",\n",
    "    \"760 Sheppard Ave W, North York, ON M3H 5T6, Canada\",\n",
    "    \"2401 Keele St, North York, ON M6L 2N9, Canada\",\n",
    "    \"71 Mitchell Pl, Newmarket, ON L3Y 0C7, Canada\",\n",
    "]\n",
    "\n",
    "for address in addresses:\n",
    "    props = reader.search_nearby(address, resolution=10, distance=4)\n",
    "    print(f\"Properties near {address}\")\n",
    "    print(\"=====================================\")\n",
    "    for prop in props:\n",
    "        print(f\"{prop.StreetAddress}, {prop.City}, {prop.Province}, {prop.PostalCode}\")\n",
    "    print(\"\\n\")"
   ]
  },
  {
   "cell_type": "code",
   "execution_count": null,
   "metadata": {},
   "outputs": [],
   "source": []
  }
 ],
 "metadata": {
  "language_info": {
   "name": "python"
  }
 },
 "nbformat": 4,
 "nbformat_minor": 2
}
