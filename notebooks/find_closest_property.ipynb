{
 "cells": [
  {
   "cell_type": "code",
   "execution_count": null,
   "metadata": {},
   "outputs": [],
   "source": [
    "from rich.pretty import pprint\n",
    "from dotenv import load_dotenv\n",
    "from mlsgpt.dbv2 import store\n",
    "load_dotenv(\"../.env-deploy\", override=True)"
   ]
  },
  {
   "cell_type": "code",
   "execution_count": null,
   "metadata": {},
   "outputs": [],
   "source": [
    "reader = store.DataReader()"
   ]
  },
  {
   "cell_type": "code",
   "execution_count": null,
   "metadata": {},
   "outputs": [],
   "source": [
    "addresses = [\n",
    "    \"440 Bathurst St, Toronto, ON M5T 2S6, Canada\",\n",
    "    \"21 Lippincott St, Toronto, ON M5T 2R5, Canada\",\n",
    "    \"5 Delabo Dr, North York, ON M3C 1W4, Canada\",\n",
    "    \"760 Sheppard Ave W, North York, ON M3H 5T6, Canada\",\n",
    "    \"2401 Keele St, North York, ON M6L 2N9, Canada\",\n",
    "    \"71 Mitchell Pl, Newmarket, ON L3Y 0C7, Canada\",\n",
    "]\n",
    "\n",
    "for address in addresses:\n",
    "    props = reader.search_nearby(address, resolution=10, distance=4)\n",
    "    print(f\"Properties near {address}\")\n",
    "    print(\"=====================================\")\n",
    "    for prop in props:\n",
    "        print(f\"{prop.StreetAddress}, {prop.City}, {prop.Province}, {prop.PostalCode}\")\n",
    "    print(\"\\n\")"
   ]
  },
  {
   "cell_type": "code",
   "execution_count": null,
   "metadata": {},
   "outputs": [],
   "source": []
  }
 ],
 "metadata": {
  "language_info": {
   "name": "python"
  }
 },
 "nbformat": 4,
 "nbformat_minor": 2
}
