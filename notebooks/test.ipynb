{
 "cells": [
  {
   "cell_type": "code",
   "execution_count": 1,
   "metadata": {},
   "outputs": [],
   "source": [
    "from mlsgpt import tasks"
   ]
  },
  {
   "cell_type": "code",
   "execution_count": 2,
   "metadata": {},
   "outputs": [],
   "source": [
    "# data = {\n",
    "#     \"name\": \"2393BronteCompsSmall.pdf\",\n",
    "#     \"id\": \"file-XFlOqJYTPBPwMZE3IopCBv1Z\",\n",
    "#     \"mime_type\": \"application/pdf\",\n",
    "#     \"download_link\": \"https://www.dropbox.com/scl/fi/fj4lihejd9x49krli2x7d/2393BronteCompsSmall.pdf?rlkey=ttl5mzgwboe5qohvnw6rkr5z1&dl=1\"\n",
    "# }\n",
    "\n",
    "data = {\n",
    "    \"name\": \"2393BronteCompsMedium.pdf\",\n",
    "    \"id\": \"file-XFlOqJYTPBPwMZE3IopCBv1Z\",\n",
    "    \"mime_type\": \"application/pdf\",\n",
    "    \"download_link\": \"https://www.dropbox.com/scl/fi/4746jf8ug5qcemhnj6aco/2393BronteCompsMedium.pdf?rlkey=n0fhhqjtlonrsi6romep5tu6g&dl=1\"\n",
    "}"
   ]
  },
  {
   "cell_type": "code",
   "execution_count": 3,
   "metadata": {},
   "outputs": [
    {
     "data": {
      "text/plain": [
       "'1712992298249-0'"
      ]
     },
     "execution_count": 3,
     "metadata": {},
     "output_type": "execute_result"
    }
   ],
   "source": [
    "stream = \"mls:extract\"\n",
    "r = tasks.get_redis_client()\n",
    "r.xadd(stream, data)"
   ]
  },
  {
   "cell_type": "code",
   "execution_count": null,
   "metadata": {},
   "outputs": [],
   "source": []
  },
  {
   "cell_type": "code",
   "execution_count": null,
   "metadata": {},
   "outputs": [],
   "source": []
  }
 ],
 "metadata": {
  "kernelspec": {
   "display_name": ".venv",
   "language": "python",
   "name": "python3"
  },
  "language_info": {
   "codemirror_mode": {
    "name": "ipython",
    "version": 3
   },
   "file_extension": ".py",
   "mimetype": "text/x-python",
   "name": "python",
   "nbconvert_exporter": "python",
   "pygments_lexer": "ipython3",
   "version": "3.12.1"
  }
 },
 "nbformat": 4,
 "nbformat_minor": 2
}
