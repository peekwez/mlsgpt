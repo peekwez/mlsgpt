{
 "cells": [
  {
   "cell_type": "code",
   "execution_count": null,
   "metadata": {},
   "outputs": [],
   "source": [
    "import os\n",
    "import h3\n",
    "import googlemaps\n",
    "from keplergl import KeplerGl\n",
    "from datetime import datetime\n",
    "from pyspark.sql import SparkSession, DataFrame, Row\n",
    "from pyspark.sql import functions as F\n",
    "from pyspark.sql import types as T\n",
    "from pyspark.errors import AnalysisException\n",
    "from dotenv import load_dotenv\n",
    "\n",
    "load_dotenv(\"../.env-deploy\", override=True)"
   ]
  },
  {
   "cell_type": "code",
   "execution_count": null,
   "metadata": {},
   "outputs": [],
   "source": [
    "data_home = \"/Users/kwesi/Desktop/ai/gpts/mlsgpt/data\"\n",
    "jar_files = [\"postgresql-42.7.3.jar\", \"mysql-connector-j-8.0.33.jar\"]\n",
    "jar_opts = \",\".join([f\"{data_home}/jars/{jar}\" for jar in jar_files])\n",
    "warehouse = f\"{data_home}/warehouse\"\n",
    "\n",
    "spark: SparkSession = (\n",
    "    SparkSession.builder\\\n",
    "    .appName(\"MLSGPT\")\n",
    "    .config(\"spark.dynamicAllocation.enabled\", \"true\")\n",
    "    .config(\"spark.shuffle.service.enabled\", \"true\")\n",
    "    .config(\"spark.sql.warehouse.dir\", f\"{warehouse}\")\n",
    "    .config(\"spark.sql.session.timeZone\", \"UTC\")\n",
    "    .config(\"spark.jars\", f\"{jar_opts}\") \n",
    "    .enableHiveSupport()\n",
    "    .getOrCreate()\n",
    ")\n",
    "spark.sparkContext.setLogLevel(\"ERROR\")\n",
    "\n",
    "def read_table(url:str, props:dict, table_name: str, ) -> DataFrame:\n",
    "    try:\n",
    "        return spark.read.jdbc(url=url, table=table_name, properties=props)\n",
    "    except AnalysisException as e:\n",
    "        print(f\"Table {table_name} not found\")\n",
    "        return None\n",
    "    \n",
    "pg_host = os.getenv(\"POSTGRES_HOST\")\n",
    "pg_port = os.getenv(\"POSTGRES_PORT\")\n",
    "pg_db = os.getenv(\"POSTGRES_DB\")\n",
    "pg_user = os.getenv(\"POSTGRES_USER\")\n",
    "pg_pass = os.getenv(\"POSTGRES_PASSWORD\")\n",
    "pg_driver = \"org.postgresql.Driver\"\n",
    "pg_url = f\"jdbc:postgresql://{pg_host}:{pg_port}/{pg_db}\"\n",
    "pg_props = {\"user\": pg_user, \"password\": pg_pass, \"driver\": pg_driver}\n",
    "\n",
    "h3_df = (\n",
    "    spark.read.format(\"parquet\")\n",
    "    .load(f\"{data_home}/h3/property.parquet\")\n",
    "    .drop(\"Latitude\", \"Longitude\")\n",
    ")\n",
    "\n",
    "prop_df = (\n",
    "    read_table(pg_url, pg_props, \"rsbr.property\")\n",
    "    .join(h3_df, \"property_id\", \"left\")\n",
    ")\n"
   ]
  },
  {
   "cell_type": "code",
   "execution_count": null,
   "metadata": {},
   "outputs": [],
   "source": [
    "def h3_index(lat:float, lng:float, resolution:int) -> str:\n",
    "    return h3.geo_to_h3(lat, lng, resolution)\n",
    "\n",
    "def geocode(address:str) -> dict:\n",
    "    gmaps = googlemaps.Client(key=os.environ[\"GOOGLE_MAPS_API_KEY\"])\n",
    "    geocode = gmaps.geocode(address)\n",
    "    return geocode[0][\"geometry\"][\"location\"]\n"
   ]
  },
  {
   "cell_type": "code",
   "execution_count": null,
   "metadata": {},
   "outputs": [],
   "source": [
    "def find_nearest(address:str, resolution:int=11):\n",
    "    loc = geocode(address)\n",
    "    index = h3_index(loc[\"lat\"], loc[\"lng\"], resolution=resolution)\n",
    "    neighbors = h3.k_ring(index, 4)\n",
    "    column = f\"H3IndexR{str(resolution).zfill(2)}\"\n",
    "    return column, index, neighbors\n",
    "\n",
    "def find_closest_properties(address:str, prop_df:DataFrame, resolution:int=11):\n",
    "    column, _, neighbors = find_nearest(address, resolution)\n",
    "    close_df = prop_df.filter(F.col(column).isin(neighbors))\n",
    "    return close_df.select(\"property_id\", \"StreetAddress\", \"City\", \"Latitude\", \"Longitude\")"
   ]
  },
  {
   "cell_type": "code",
   "execution_count": null,
   "metadata": {},
   "outputs": [],
   "source": [
    "addresses = [\n",
    "    \"440 Bathurst St, Toronto, ON M5T 2S6, Canada\",\n",
    "    \"21 Lippincott St, Toronto, ON M5T 2R5, Canada\",\n",
    "    \"5 Delabo Dr, North York, ON M3C 1W4, Canada\",\n",
    "    \"760 Sheppard Ave W, North York, ON M3H 5T6, Canada\",\n",
    "    \"2401 Keele St, North York, ON M6L 2N9, Canada\",\n",
    "    \"71 Mitchell Pl, Newmarket, ON L3Y 0C7, Canada\",\n",
    "]\n",
    "for address in addresses:\n",
    "    find_closest_properties(address, prop_df).show(5, truncate=False)"
   ]
  },
  {
   "cell_type": "code",
   "execution_count": null,
   "metadata": {},
   "outputs": [],
   "source": []
  }
 ],
 "metadata": {
  "language_info": {
   "name": "python"
  }
 },
 "nbformat": 4,
 "nbformat_minor": 2
}
