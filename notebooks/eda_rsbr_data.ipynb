{
 "cells": [
  {
   "cell_type": "code",
   "execution_count": 1,
   "metadata": {},
   "outputs": [
    {
     "data": {
      "text/plain": [
       "True"
      ]
     },
     "execution_count": 1,
     "metadata": {},
     "output_type": "execute_result"
    }
   ],
   "source": [
    "import os\n",
    "from pyspark.sql import SparkSession, DataFrame\n",
    "from pyspark.sql import functions as F\n",
    "from pyspark.sql import types as T\n",
    "from pyspark.errors import AnalysisException\n",
    "\n",
    "\n",
    "from dotenv import load_dotenv\n",
    "\n",
    "os.environ[\"SPARK_VERSION\"] = \"3.3\"\n",
    "load_dotenv(\"../.env-deploy\", override=True)"
   ]
  },
  {
   "cell_type": "code",
   "execution_count": 2,
   "metadata": {},
   "outputs": [],
   "source": [
    "import pydeequ"
   ]
  },
  {
   "cell_type": "code",
   "execution_count": 3,
   "metadata": {},
   "outputs": [
    {
     "name": "stderr",
     "output_type": "stream",
     "text": [
      "24/05/12 22:32:32 WARN NativeCodeLoader: Unable to load native-hadoop library for your platform... using builtin-java classes where applicable\n",
      "Setting default log level to \"WARN\".\n",
      "To adjust logging level use sc.setLogLevel(newLevel). For SparkR, use setLogLevel(newLevel).\n"
     ]
    }
   ],
   "source": [
    "data_home = \"/Users/kwesi/Desktop/ai/gpts/mlsgpt/data\"\n",
    "jar_files = [\"postgresql-42.7.3.jar\", \"mysql-connector-j-8.0.33.jar\"]\n",
    "jar_opts = \",\".join([f\"{data_home}/jars/{jar}\" for jar in jar_files])\n",
    "warehouse = f\"{data_home}/warehouse\"\n",
    "\n",
    "spark: SparkSession = (\n",
    "    SparkSession.builder\\\n",
    "    .appName(\"MLSGPT\")\n",
    "    .config(\"spark.dynamicAllocation.enabled\", \"true\")\n",
    "    .config(\"spark.shuffle.service.enabled\", \"true\")\n",
    "    .config(\"spark.sql.warehouse.dir\", f\"{warehouse}\")\n",
    "    .config(\"spark.sql.session.timeZone\", \"UTC\")\n",
    "    .config(\"spark.jars\", f\"{jar_opts}\") \n",
    "    .enableHiveSupport()\n",
    "    .getOrCreate()\n",
    ")\n",
    "spark.sparkContext.setLogLevel(\"ERROR\")"
   ]
  },
  {
   "cell_type": "code",
   "execution_count": 4,
   "metadata": {},
   "outputs": [],
   "source": [
    "def read_table(url:str, props:dict, table_name: str, ) -> DataFrame:\n",
    "    try:\n",
    "        return spark.read.jdbc(url=url, table=table_name, properties=props)\n",
    "    except AnalysisException as e:\n",
    "        print(f\"Table {table_name} not found\")\n",
    "        return None\n",
    "    \n",
    "pg_url = \"jdbc:postgresql://{}:{}/{}\".format(os.getenv(\"POSTGRES_HOST\"), os.getenv(\"POSTGRES_PORT\"),os.getenv(\"POSTGRES_DB\"))\n",
    "pg_props = {\n",
    "    \"user\": os.getenv(\"POSTGRES_USER\"),\n",
    "    \"password\": os.getenv(\"POSTGRES_PASSWORD\"),\n",
    "    \"driver\": \"org.postgresql.Driver\"\n",
    "}\n",
    "tables = [\"rsbr.boards\", \"rsbr.office\", \"rsbr.agent\", \"rsbr.property\", \"rsbr.property_rooms\"]\n",
    "dfs = {k.split(\".\")[1]: read_table(pg_url, pg_props, k) for k in tables}"
   ]
  },
  {
   "cell_type": "code",
   "execution_count": 5,
   "metadata": {},
   "outputs": [],
   "source": [
    "# from pydeequ.analyzers import *\n",
    "\n",
    "# analysisResult = AnalysisRunner(spark) \\\n",
    "#                     .onData(dfs[\"property\"]) \\\n",
    "#                     .addAnalyzer(Size()) \\\n",
    "#                     .addAnalyzer(Completeness(\"b\")) \\\n",
    "#                     .run()\n",
    "\n",
    "# analysisResult_df = AnalyzerContext.successMetricsAsDataFrame(spark, analysisResult)\n",
    "# analysisResult_df.show()"
   ]
  },
  {
   "cell_type": "code",
   "execution_count": 6,
   "metadata": {},
   "outputs": [],
   "source": [
    "# from pydeequ.profiles import *\n",
    "\n",
    "# result = ColumnProfilerRunner(spark) \\\n",
    "#     .onData(dfs[\"property\"]) \\\n",
    "#     .run()\n",
    "\n",
    "# for col, profile in result.profiles.items():\n",
    "#     print(profile)"
   ]
  },
  {
   "cell_type": "code",
   "execution_count": 7,
   "metadata": {},
   "outputs": [],
   "source": [
    "# stats = dfs[\"property\"].describe()"
   ]
  },
  {
   "cell_type": "code",
   "execution_count": 8,
   "metadata": {},
   "outputs": [],
   "source": [
    "# stats.toPandas().transpose()"
   ]
  },
  {
   "cell_type": "code",
   "execution_count": 9,
   "metadata": {},
   "outputs": [],
   "source": [
    "# dfs[\"property\"].show()"
   ]
  }
 ],
 "metadata": {
  "kernelspec": {
   "display_name": ".venv",
   "language": "python",
   "name": "python3"
  },
  "language_info": {
   "codemirror_mode": {
    "name": "ipython",
    "version": 3
   },
   "file_extension": ".py",
   "mimetype": "text/x-python",
   "name": "python",
   "nbconvert_exporter": "python",
   "pygments_lexer": "ipython3",
   "version": "3.12.1"
  }
 },
 "nbformat": 4,
 "nbformat_minor": 2
}
