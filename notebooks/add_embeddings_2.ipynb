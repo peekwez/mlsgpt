{
 "cells": [
  {
   "cell_type": "code",
   "execution_count": null,
   "metadata": {},
   "outputs": [],
   "source": [
    "import os\n",
    "from psycopg import sql\n",
    "from pyspark.sql import SparkSession\n",
    "from pyspark.sql import types as T\n",
    "from dotenv import load_dotenv\n",
    "from mlsgpt.db import store\n",
    "\n",
    "load_dotenv(\"../.env-deploy\", override=True)"
   ]
  },
  {
   "cell_type": "code",
   "execution_count": null,
   "metadata": {},
   "outputs": [],
   "source": [
    "data_home = \"/Users/kwesi/Desktop/ai/gpts/mlsgpt/data\"\n",
    "jar_files = [\"postgresql-42.7.3.jar\", \"mysql-connector-j-8.0.33.jar\"]\n",
    "jar_opts = \",\".join([f\"{data_home}/jars/{jar}\" for jar in jar_files])\n",
    "warehouse = f\"{data_home}/warehouse\"\n",
    "\n",
    "spark: SparkSession = (\n",
    "    SparkSession.builder\\\n",
    "    .appName(\"MLSGPT\")\n",
    "    .config(\"spark.driver.memory\", \"16G\")\n",
    "    .config(\"spark.dynamicAllocation.enabled\", \"true\")\n",
    "    .config(\"spark.shuffle.service.enabled\", \"true\")\n",
    "    .config(\"spark.sql.warehouse.dir\", f\"{warehouse}\")\n",
    "    .config(\"spark.sql.session.timeZone\", \"UTC\")\n",
    "    .config(\"spark.jars\", f\"{jar_opts}\") \n",
    "    .enableHiveSupport()\n",
    "    .getOrCreate()\n",
    ")\n",
    "spark.sparkContext.setLogLevel(\"ERROR\")"
   ]
  },
  {
   "cell_type": "code",
   "execution_count": null,
   "metadata": {},
   "outputs": [],
   "source": [
    "schema = T.StructType(\n",
    "    [\n",
    "        T.StructField(\"ListingID\", T.StringType(), False),\n",
    "        T.StructField(\"PublicRemarks\", T.StringType(), False),\n",
    "        T.StructField(\"Embedding\", T.StringType(), False)\n",
    "    ]\n",
    ")\n",
    "df = spark.read.csv(f\"{data_home}/embeddings/batch*\", header=True, schema=schema)\n",
    "rows = [(row.ListingID, row.PublicRemarks, row.Embedding) for row in df.collect()]"
   ]
  },
  {
   "cell_type": "code",
   "execution_count": null,
   "metadata": {},
   "outputs": [],
   "source": [
    "conn = store.create_pg_connection(\"gpts\")\n",
    "cursor = conn.cursor()\n",
    "cmd = sql.SQL('INSERT INTO rsbr.embedding (\"ListingID\", \"PublicRemarks\", \"Embedding\") VALUES (%s, %s, %s)')"
   ]
  },
  {
   "cell_type": "code",
   "execution_count": null,
   "metadata": {},
   "outputs": [],
   "source": [
    "# for row in rows:\n",
    "cursor.executemany(cmd, rows[10:])\n",
    "conn.commit()"
   ]
  }
 ],
 "metadata": {
  "language_info": {
   "name": "python"
  }
 },
 "nbformat": 4,
 "nbformat_minor": 2
}
