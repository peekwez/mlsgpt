{
 "cells": [
  {
   "cell_type": "code",
   "execution_count": 1,
   "metadata": {},
   "outputs": [
    {
     "data": {
      "text/plain": [
       "True"
      ]
     },
     "execution_count": 1,
     "metadata": {},
     "output_type": "execute_result"
    }
   ],
   "source": [
    "import os\n",
    "import h3\n",
    "import googlemaps\n",
    "from keplergl import KeplerGl\n",
    "from datetime import datetime\n",
    "from pyspark.sql import SparkSession, DataFrame, Row\n",
    "from pyspark.sql import functions as F\n",
    "from pyspark.sql import types as T\n",
    "from pyspark.errors import AnalysisException\n",
    "from dotenv import load_dotenv\n",
    "\n",
    "load_dotenv(\"../.env-deploy\", override=True)"
   ]
  },
  {
   "cell_type": "code",
   "execution_count": 2,
   "metadata": {},
   "outputs": [
    {
     "name": "stderr",
     "output_type": "stream",
     "text": [
      "24/06/04 23:44:33 WARN Utils: Your hostname, marley.local resolves to a loopback address: 127.0.0.1; using 10.0.0.135 instead (on interface en0)\n",
      "24/06/04 23:44:33 WARN Utils: Set SPARK_LOCAL_IP if you need to bind to another address\n",
      "24/06/04 23:44:34 WARN NativeCodeLoader: Unable to load native-hadoop library for your platform... using builtin-java classes where applicable\n",
      "Setting default log level to \"WARN\".\n",
      "To adjust logging level use sc.setLogLevel(newLevel). For SparkR, use setLogLevel(newLevel).\n"
     ]
    }
   ],
   "source": [
    "data_home = \"/Users/kwesi/Desktop/ai/gpts/mlsgpt/data\"\n",
    "jar_files = [\"postgresql-42.7.3.jar\", \"mysql-connector-j-8.0.33.jar\"]\n",
    "jar_opts = \",\".join([f\"{data_home}/jars/{jar}\" for jar in jar_files])\n",
    "warehouse = f\"{data_home}/warehouse\"\n",
    "\n",
    "spark: SparkSession = (\n",
    "    SparkSession.builder\\\n",
    "    .appName(\"MLSGPT\")\n",
    "    .config(\"spark.dynamicAllocation.enabled\", \"true\")\n",
    "    .config(\"spark.shuffle.service.enabled\", \"true\")\n",
    "    .config(\"spark.sql.warehouse.dir\", f\"{warehouse}\")\n",
    "    .config(\"spark.sql.session.timeZone\", \"UTC\")\n",
    "    .config(\"spark.jars\", f\"{jar_opts}\") \n",
    "    .enableHiveSupport()\n",
    "    .getOrCreate()\n",
    ")\n",
    "spark.sparkContext.setLogLevel(\"ERROR\")"
   ]
  },
  {
   "cell_type": "code",
   "execution_count": 3,
   "metadata": {},
   "outputs": [],
   "source": [
    "def h3_index(lat:float, lon:float, resolution:int) -> str:\n",
    "    return h3.geo_to_h3(lat, lon, resolution)\n",
    "df = spark.read.parquet(f\"{data_home}/h3/property.parquet\")"
   ]
  },
  {
   "cell_type": "code",
   "execution_count": 4,
   "metadata": {},
   "outputs": [],
   "source": [
    "h3_resolutions = [5, 6, 7, 8, 9, 10]\n",
    "gmaps = googlemaps.Client(key=os.environ[\"GOOGLE_MAPS_API_KEY\"])\n",
    "geocode_result = gmaps.geocode(\"University of Toronto, Toronto, ON, Canada\")\n",
    "lat, lng = geocode_result[0][\"geometry\"][\"location\"][\"lat\"], geocode_result[0][\"geometry\"][\"location\"][\"lng\"]"
   ]
  },
  {
   "cell_type": "code",
   "execution_count": 11,
   "metadata": {},
   "outputs": [
    {
     "name": "stdout",
     "output_type": "stream",
     "text": [
      "User Guide: https://docs.kepler.gl/docs/keplergl-jupyter\n",
      "Map saved to kepler_05.html!\n",
      "User Guide: https://docs.kepler.gl/docs/keplergl-jupyter\n",
      "Map saved to kepler_06.html!\n",
      "User Guide: https://docs.kepler.gl/docs/keplergl-jupyter\n",
      "Map saved to kepler_07.html!\n",
      "User Guide: https://docs.kepler.gl/docs/keplergl-jupyter\n",
      "Map saved to kepler_08.html!\n",
      "User Guide: https://docs.kepler.gl/docs/keplergl-jupyter\n",
      "Map saved to kepler_09.html!\n",
      "User Guide: https://docs.kepler.gl/docs/keplergl-jupyter\n",
      "Map saved to kepler_10.html!\n"
     ]
    }
   ],
   "source": [
    "for res in h3_resolutions:\n",
    "    res = str(res).zfill(2)\n",
    "    data = (\n",
    "        df\n",
    "        .select(F.col(f\"H3IndexR{res}\").alias(\"hex_id\"), F.lit(1).alias(\"value\"))\n",
    "        .groupBy(\"hex_id\").agg(F.sum(\"value\").alias(\"value\"))\n",
    "        .toPandas()\n",
    "    )\n",
    "    config = {\n",
    "        'version': 'v1',\n",
    "        'config': {\n",
    "            'mapState': {\n",
    "                'latitude': lat,\n",
    "                'longitude': lng,\n",
    "                'zoom': 5\n",
    "            }\n",
    "        }\n",
    "    }\n",
    "    map_1 = KeplerGl(height=600, config=config)\n",
    "    map_1.add_data(data=data, name=\"data_1\")\n",
    "    map_1.save_to_html(file_name=f\"kepler_{res}.html\")"
   ]
  },
  {
   "cell_type": "code",
   "execution_count": null,
   "metadata": {},
   "outputs": [],
   "source": []
  }
 ],
 "metadata": {
  "language_info": {
   "name": "python"
  }
 },
 "nbformat": 4,
 "nbformat_minor": 2
}
