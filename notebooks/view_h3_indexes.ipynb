{
 "cells": [
  {
   "cell_type": "code",
   "execution_count": null,
   "metadata": {},
   "outputs": [],
   "source": [
    "import os\n",
    "import h3\n",
    "import googlemaps\n",
    "from keplergl import KeplerGl\n",
    "from datetime import datetime\n",
    "from pyspark.sql import SparkSession, DataFrame, Row\n",
    "from pyspark.sql import functions as F\n",
    "from pyspark.sql import types as T\n",
    "from pyspark.errors import AnalysisException\n",
    "from dotenv import load_dotenv\n",
    "\n",
    "load_dotenv(\"../.env-deploy\", override=True)"
   ]
  },
  {
   "cell_type": "code",
   "execution_count": null,
   "metadata": {},
   "outputs": [],
   "source": [
    "def h3_index(lat:float, lng:float, resolution:int) -> str:\n",
    "    return h3.geo_to_h3(lat, lng, resolution)\n",
    "\n",
    "def geocode(address:str) -> dict:\n",
    "    gmaps = googlemaps.Client(key=os.environ[\"GOOGLE_MAPS_API_KEY\"])\n",
    "    geocode = gmaps.geocode(address)\n",
    "    return geocode[0][\"geometry\"][\"location\"]\n"
   ]
  },
  {
   "cell_type": "code",
   "execution_count": null,
   "metadata": {},
   "outputs": [],
   "source": [
    "loc = geocode(\"University of Toronto, Toronto, ON, Canada\")\n",
    "index = h3_index(loc[\"lat\"], loc[\"lng\"], resolution=10)"
   ]
  },
  {
   "cell_type": "code",
   "execution_count": null,
   "metadata": {},
   "outputs": [],
   "source": []
  }
 ],
 "metadata": {
  "language_info": {
   "name": "python"
  }
 },
 "nbformat": 4,
 "nbformat_minor": 2
}
