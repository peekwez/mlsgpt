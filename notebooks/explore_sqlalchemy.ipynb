{
 "cells": [
  {
   "cell_type": "code",
   "execution_count": 1,
   "metadata": {},
   "outputs": [
    {
     "data": {
      "text/plain": [
       "True"
      ]
     },
     "execution_count": 1,
     "metadata": {},
     "output_type": "execute_result"
    }
   ],
   "source": [
    "from rich.pretty import pprint\n",
    "from mlsgpt.dbv2 import models, store\n",
    "from dotenv import load_dotenv\n",
    "load_dotenv(\"../.env-deploy\", override=True)"
   ]
  },
  {
   "cell_type": "code",
   "execution_count": 2,
   "metadata": {},
   "outputs": [],
   "source": [
    "# db = reader.DataReader()"
   ]
  },
  {
   "cell_type": "code",
   "execution_count": 3,
   "metadata": {},
   "outputs": [],
   "source": [
    "# props = db.semantic_search(\"beautiful bungalow in holland landing\", threshold=0.4)\n",
    "# print(len(props))"
   ]
  },
  {
   "cell_type": "code",
   "execution_count": 4,
   "metadata": {},
   "outputs": [],
   "source": [
    "# prop = models.Property.model_validate(props[0])\n",
    "# pprint(prop)"
   ]
  },
  {
   "cell_type": "code",
   "execution_count": 5,
   "metadata": {},
   "outputs": [],
   "source": [
    "# props = db.get_properties()\n",
    "# print(props[0])"
   ]
  },
  {
   "cell_type": "code",
   "execution_count": 6,
   "metadata": {},
   "outputs": [],
   "source": [
    "# prop = models.Property.model_validate(props[0])\n",
    "# pprint(prop)"
   ]
  },
  {
   "cell_type": "code",
   "execution_count": 7,
   "metadata": {},
   "outputs": [
    {
     "name": "stdout",
     "output_type": "stream",
     "text": [
      "20\n"
     ]
    }
   ],
   "source": [
    "with store.DataReader() as db:\n",
    "    # Search for properties with a specific city and price range\n",
    "    properties = db.search(City=\"Toronto\", MaxPrice=500000)\n",
    "    \n",
    "    # Search for properties with partial match on the street address\n",
    "    #properties = db.search(StreetAddress=\"Main\")\n",
    "    \n",
    "    # Search for properties with multiple filters\n",
    "    #properties = db.search(City=\"Toronto\", BedroomsTotal=3, PropertyType=\"House\")\n",
    "    print(len(properties))\n",
    "    # for property in properties:\n",
    "    #     prop = models.Property.model_validate(property)\n",
    "    #     pprint(prop)"
   ]
  },
  {
   "cell_type": "code",
   "execution_count": null,
   "metadata": {},
   "outputs": [],
   "source": []
  }
 ],
 "metadata": {
  "kernelspec": {
   "display_name": ".venv",
   "language": "python",
   "name": "python3"
  },
  "language_info": {
   "codemirror_mode": {
    "name": "ipython",
    "version": 3
   },
   "file_extension": ".py",
   "mimetype": "text/x-python",
   "name": "python",
   "nbconvert_exporter": "python",
   "pygments_lexer": "ipython3",
   "version": "3.12.1"
  }
 },
 "nbformat": 4,
 "nbformat_minor": 2
}
