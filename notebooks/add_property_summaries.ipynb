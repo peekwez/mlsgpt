{
 "cells": [
  {
   "cell_type": "code",
   "execution_count": null,
   "metadata": {},
   "outputs": [],
   "source": [
    "import re\n",
    "from pyspark.sql import SparkSession, DataFrame, Row\n",
    "from pyspark.sql import types as T\n",
    "from pyspark.errors import AnalysisException\n",
    "\n",
    "from rich.pretty import pprint\n",
    "from dotenv import load_dotenv\n",
    "\n",
    "from mlsgpt.dbv2 import store, models, schema\n",
    "load_dotenv(\"../.env-deploy\", override=True)"
   ]
  },
  {
   "cell_type": "code",
   "execution_count": null,
   "metadata": {},
   "outputs": [],
   "source": [
    "reader = store.DataReader()"
   ]
  },
  {
   "cell_type": "code",
   "execution_count": null,
   "metadata": {},
   "outputs": [],
   "source": [
    "data_home = \"/Users/kwesi/Desktop/ai/gpts/mlsgpt/data\"\n",
    "jar_files = [\"postgresql-42.7.3.jar\", \"mysql-connector-j-8.0.33.jar\"]\n",
    "jar_opts = \",\".join([f\"{data_home}/jars/{jar}\" for jar in jar_files])\n",
    "warehouse = f\"{data_home}/warehouse\"\n",
    "\n",
    "spark: SparkSession = (\n",
    "    SparkSession.builder\\\n",
    "    .appName(\"MLSGPT\")\n",
    "    .config(\"spark.dynamicAllocation.enabled\", \"true\")\n",
    "    .config(\"spark.shuffle.service.enabled\", \"true\")\n",
    "    .config(\"spark.sql.warehouse.dir\", f\"{warehouse}\")\n",
    "    .config(\"spark.sql.session.timeZone\", \"UTC\")\n",
    "    .config(\"spark.jars\", f\"{jar_opts}\") \n",
    "    .enableHiveSupport()\n",
    "    .getOrCreate()\n",
    ")\n",
    "spark.sparkContext.setLogLevel(\"ERROR\")"
   ]
  },
  {
   "cell_type": "code",
   "execution_count": null,
   "metadata": {},
   "outputs": [],
   "source": [
    "props = [models.Property(prop) for prop in reader.get_properties()]"
   ]
  },
  {
   "cell_type": "code",
   "execution_count": null,
   "metadata": {},
   "outputs": [],
   "source": [
    "# import tiktoken\n",
    "# cost_per_1k_tokens = 5.0/1000\n",
    "# enc = tiktoken.encoding_for_model(\"gpt-4\")\n",
    "# tokens = []\n",
    "# costs = [cost_per_1k_tokens * (token_count / 1000) for token_count in tokens]\n",
    "# print(f\"Total tokens: {sum(tokens)}\")\n",
    "# print(f\"Total cost: ${sum(costs):.4f}\")"
   ]
  },
  {
   "cell_type": "code",
   "execution_count": null,
   "metadata": {},
   "outputs": [],
   "source": [
    "system_prompt = open(\"summary_system_prompt.md\").read()\n",
    "prompt_template = \"Description JSON:\\n```json\\n{}\\n```\""
   ]
  },
  {
   "cell_type": "code",
   "execution_count": null,
   "metadata": {},
   "outputs": [],
   "source": [
    "def parse_text(text: str) -> str:\n",
    "    extracted = \"\"\n",
    "    match = re.search(r'text\\n(.*?)', text, re.DOTALL) \n",
    "    if match: \n",
    "        extracted = match.group(1) \n",
    "        return extracted"
   ]
  },
  {
   "cell_type": "code",
   "execution_count": null,
   "metadata": {},
   "outputs": [],
   "source": [
    "from openai import OpenAI\n",
    "client = OpenAI()\n",
    "\n",
    "def summarize(prop:models.Property) -> str:\n",
    "    client = OpenAI()\n",
    "    messages = [\n",
    "        {\"role\": \"system\", \"content\": system_prompt},\n",
    "        {\"role\": \"user\", \"content\": prompt_template.format(prop.model_dump_json())}\n",
    "    ]\n",
    "    response = client.chat.completions.create(messages=messages, model=\"gpt-4o\")\n",
    "    description = parse_text(response[\"choices\"][0][\"message\"][\"content\"])\n",
    "    return Row(ListingID=prop.ListingID, Summary=description, Embedding=None), response"
   ]
  },
  {
   "cell_type": "code",
   "execution_count": null,
   "metadata": {},
   "outputs": [],
   "source": [
    "prop = models.Property.model_validate(props[0])\n",
    "row, response = summarize(prop)"
   ]
  },
  {
   "cell_type": "code",
   "execution_count": null,
   "metadata": {},
   "outputs": [],
   "source": []
  },
  {
   "cell_type": "code",
   "execution_count": null,
   "metadata": {},
   "outputs": [],
   "source": [
    "# import concurrent.futures\n",
    "\n",
    "# # Define a function to process a batch of embeddings\n",
    "# def process_batch(batch):\n",
    "#     with concurrent.futures.ThreadPoolExecutor(100) as executor:\n",
    "#         futures = []\n",
    "#         for data in batch:\n",
    "#             futures.append(executor.submit(summarize, data))\n",
    "\n",
    "#         results = []\n",
    "#         for future in concurrent.futures.as_completed(futures):\n",
    "#             results.append(future.result())\n",
    "#     return results\n",
    "\n",
    "# # Split the 'to_embed' list into batches of 1000\n",
    "# batch_size = 100\n",
    "# size = len(props)\n",
    "# batches = [props[i:i+batch_size] for i in range(0, size, batch_size)]\n",
    "\n",
    "# _schema = T.StructType(\n",
    "#     [\n",
    "#         T.StructField(\"ListingID\", T.StringType(), False),\n",
    "#         T.StructField(\"Summary\", T.TextType(), False),\n",
    "#         T.StructField(\"Embedding\", T.StringType(), False)\n",
    "#     ]\n",
    "# )\n",
    "\n",
    "# print(f\"Processing {len(props)} records in {len(batches)} batches of {batch_size} records each\")\n",
    "# total_processed = 0\n",
    "# for i, batch in enumerate(batches):\n",
    "#     if i +  1 > 275:\n",
    "#         rows = process_batch(batch)\n",
    "#         df = spark.createDataFrame(rows, _schema)\n",
    "#         df.write.csv(f\"{data_home}/summaries/batch{str(i+1).zfill(6)}.csv\", mode=\"overwrite\", header=True)\n",
    "#         total_processed += len(batch)\n",
    "#         print(f\"Processed batch {i+1} of {len(batches)} for ({total_processed} of {size}) records\")\n",
    "\n"
   ]
  }
 ],
 "metadata": {
  "language_info": {
   "name": "python"
  }
 },
 "nbformat": 4,
 "nbformat_minor": 2
}
