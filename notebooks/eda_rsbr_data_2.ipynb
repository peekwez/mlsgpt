{
 "cells": [
  {
   "cell_type": "code",
   "execution_count": 1,
   "metadata": {},
   "outputs": [
    {
     "data": {
      "text/plain": [
       "True"
      ]
     },
     "execution_count": 1,
     "metadata": {},
     "output_type": "execute_result"
    }
   ],
   "source": [
    "import os\n",
    "from pyspark.sql import SparkSession, DataFrame, Row\n",
    "from pyspark.sql import functions as F\n",
    "from pyspark.sql import types as T\n",
    "from pyspark.sql import window as W\n",
    "from pyspark.errors import AnalysisException\n",
    "\n",
    "\n",
    "from dotenv import load_dotenv\n",
    "\n",
    "os.environ[\"SPARK_VERSION\"] = \"3.3\"\n",
    "load_dotenv(\"../.env-deploy\", override=True)"
   ]
  },
  {
   "cell_type": "code",
   "execution_count": 2,
   "metadata": {},
   "outputs": [
    {
     "name": "stderr",
     "output_type": "stream",
     "text": [
      "24/06/07 10:02:52 WARN Utils: Your hostname, marley.local resolves to a loopback address: 127.0.0.1; using 10.0.0.135 instead (on interface en0)\n",
      "24/06/07 10:02:52 WARN Utils: Set SPARK_LOCAL_IP if you need to bind to another address\n",
      "24/06/07 10:02:52 WARN NativeCodeLoader: Unable to load native-hadoop library for your platform... using builtin-java classes where applicable\n",
      "Setting default log level to \"WARN\".\n",
      "To adjust logging level use sc.setLogLevel(newLevel). For SparkR, use setLogLevel(newLevel).\n"
     ]
    }
   ],
   "source": [
    "data_home = \"/Users/kwesi/Desktop/ai/gpts/mlsgpt/data\"\n",
    "jar_files = [\"postgresql-42.7.3.jar\", \"mysql-connector-j-8.0.33.jar\"]\n",
    "jar_opts = \",\".join([f\"{data_home}/jars/{jar}\" for jar in jar_files])\n",
    "warehouse = f\"{data_home}/warehouse\"\n",
    "\n",
    "spark: SparkSession = (\n",
    "    SparkSession.builder\\\n",
    "    .appName(\"MLSGPT\")\n",
    "    .config(\"spark.dynamicAllocation.enabled\", \"true\")\n",
    "    .config(\"spark.shuffle.service.enabled\", \"true\")\n",
    "    .config(\"spark.sql.warehouse.dir\", f\"{warehouse}\")\n",
    "    .config(\"spark.sql.session.timeZone\", \"UTC\")\n",
    "    .config(\"spark.jars\", f\"{jar_opts}\") \n",
    "    .enableHiveSupport()\n",
    "    .getOrCreate()\n",
    ")\n",
    "spark.sparkContext.setLogLevel(\"ERROR\")"
   ]
  },
  {
   "cell_type": "code",
   "execution_count": 3,
   "metadata": {},
   "outputs": [],
   "source": [
    "def read_table(url:str, props:dict, table_name: str, ) -> DataFrame:\n",
    "    try:\n",
    "        return spark.read.jdbc(url=url, table=table_name, properties=props)\n",
    "    except AnalysisException as e:\n",
    "        print(f\"Table {table_name} not found\")\n",
    "        return None\n",
    "    \n",
    "pg_url = \"jdbc:postgresql://{}:{}/{}\".format(os.getenv(\"POSTGRES_HOST\"), os.getenv(\"POSTGRES_PORT\"),os.getenv(\"POSTGRES_DB\"))\n",
    "pg_props = {\n",
    "    \"user\": os.getenv(\"POSTGRES_USER\"),\n",
    "    \"password\": os.getenv(\"POSTGRES_PASSWORD\"),\n",
    "    \"driver\": \"org.postgresql.Driver\"\n",
    "}\n",
    "tables = [\"rsbr.boards\", \"rsbr.office\", \"rsbr.agent\", \"rsbr.property\", \"rsbr.property_rooms\"]\n",
    "columns = [c.column for c in spark.read.csv(\"../data/columns_to_keep.csv\", header=True).collect()]\n",
    "df = (\n",
    "    read_table(pg_url, pg_props, \"rsbr.property\")    \n",
    "    .select(columns)\n",
    ")"
   ]
  },
  {
   "cell_type": "code",
   "execution_count": 6,
   "metadata": {},
   "outputs": [],
   "source": [
    "dom = (\n",
    "    F.when(F.col(\"Sold\") == 1, F.datediff(F.current_date(), F.to_date(\"ListingContractDate\", \"yyyy-MM-dd\")))\n",
    "    .otherwise(F.datediff(F.current_date(), F.to_date(\"ListingContractDate\", \"yyyy-MM-dd\")))\n",
    "    .alias(\"DaysOnMarket\")\n",
    ")\n",
    "sold = F.when(F.col(\"Sold\") == 1, \"Yes\").otherwise(\"No\").alias(\"Sold\")\n",
    "pp_sq_ft = F.round(F.col(\"Price\") / F.col(\"SizeInterior\"),2).alias(\"PricePerSqft\")\n",
    "win_top = W.Window.partitionBy(\"City\", \"PropertyType\").orderBy(F.desc(\"Price\"))\n",
    "win_bottom = W.Window.partitionBy(\"City\", \"PropertyType\").orderBy(F.asc(\"Price\"))\n",
    "df_base = df.select(\n",
    "    F.lower(\"City\").alias(\"City\"),\n",
    "    F.lower(\"CommunityName\").alias(\"CommunityName\"),\n",
    "    F.col(\"AmmenitiesNearby\").alias(\"AmenitiesNearby\"),\n",
    "    F.lower(\"Type\").alias(\"Type\"),\n",
    "    F.lower(\"PropertyType\").alias(\"PropertyType\"),\n",
    "    F.lower(\"OwnershipType\").alias(\"OwnershipType\"),\n",
    "    F.lower(\"ConstructionStyleAttachment\").alias(\"ConstructionStyleAttachment\"),\n",
    "    \"BedroomsTotal\",\n",
    "    \"BathroomTotal\",\n",
    "    F.substring(\"PostalCode\", 0,3).alias(\"FSA\"),\n",
    "    F.quarter(F.to_date(\"ListingContractDate\", \"yyyy-MM-dd\")).alias(\"Quarter\"),\n",
    "    F.year(F.to_date(\"ListingContractDate\", \"yyyy-MM-dd\")).alias(\"Year\"),\n",
    "    F.rank().over(win_top).alias(\"TopRank\"),\n",
    "    F.rank().over(win_bottom).alias(\"BottomRank\"),\n",
    "    dom,\n",
    "    sold,\n",
    "    pp_sq_ft,\n",
    "    \"Price\",\n",
    "    \"Lease\",\n",
    ").filter(F.col(\"Price\") > 0)"
   ]
  },
  {
   "cell_type": "code",
   "execution_count": 7,
   "metadata": {},
   "outputs": [],
   "source": [
    "groups = (\n",
    "    (\"City\",),\n",
    "    (\"City\", \"Type\"),\n",
    "    (\"City\", \"PropertyType\"),\n",
    "    (\"City\", \"BedroomsTotal\"),\n",
    "    (\"City\", \"OwnershipType\"),\n",
    "    (\"City\", \"ConstructionStyleAttachment\"),\n",
    ")\n",
    "\n",
    "agg_cols = (\n",
    "    F.count(\"*\").cast(T.IntegerType()).alias(\"InventoryCount\"),\n",
    "    F.avg(\"Price\").cast(T.DecimalType(15,2)).alias(\"AveragePrice\"),\n",
    "    F.percentile_approx(\"Price\", 0.5).cast(T.DecimalType(15,2)).alias(\"MedianPrice\"),\n",
    "    F.min(\"Price\").cast(T.DecimalType(15,2)).alias(\"MinimumPrice\"),\n",
    "    F.max(\"Price\").cast(T.DecimalType(15,2)).alias(\"MaximumPrice\"),\n",
    "    F.avg(\"DaysOnMarket\").cast(T.DecimalType(15,2)).alias(\"AverageDaysOnMarket\"),\n",
    "    F.percentile_approx(\"DaysOnMarket\", 0.5).cast(T.DecimalType(15,2)).alias(\"MedianDaysOnMarket\"),\n",
    "    F.min(\"DaysOnMarket\").cast(T.DecimalType(15,2)).alias(\"MinimumDaysOnMarket\"),\n",
    "    F.max(\"DaysOnMarket\").cast(T.DecimalType(15,2)).alias(\"MaximumDaysOnMarket\"),\n",
    "    F.avg(\"PricePerSqft\").cast(T.DecimalType(15,2)).alias(\"AveragePricePerSqft\"),\n",
    ")\n",
    "\n",
    "df_stats = {}\n",
    "for group in groups:\n",
    "    group_key = \"\".join(group) + \"Stats\"\n",
    "    df_stats[group_key] = df_base.groupBy(*group).agg(*agg_cols)"
   ]
  },
  {
   "cell_type": "code",
   "execution_count": 8,
   "metadata": {},
   "outputs": [
    {
     "name": "stdout",
     "output_type": "stream",
     "text": [
      "CityStats\n"
     ]
    },
    {
     "name": "stderr",
     "output_type": "stream",
     "text": [
      "                                                                                \r"
     ]
    },
    {
     "name": "stdout",
     "output_type": "stream",
     "text": [
      "+---------+--------------+------------+-----------+------------+------------+-------------------+------------------+-------------------+-------------------+-------------------+\n",
      "|     City|InventoryCount|AveragePrice|MedianPrice|MinimumPrice|MaximumPrice|AverageDaysOnMarket|MedianDaysOnMarket|MinimumDaysOnMarket|MaximumDaysOnMarket|AveragePricePerSqft|\n",
      "+---------+--------------+------------+-----------+------------+------------+-------------------+------------------+-------------------+-------------------+-------------------+\n",
      "|aberfoyle|             1|   494900.00|  494900.00|   494900.00|   494900.00|              72.00|             72.00|              72.00|              72.00|             554.20|\n",
      "|    acton|            13|  1197152.92| 1249000.00|   825000.00|  1800000.00|              55.69|             52.00|              38.00|             107.00|             560.10|\n",
      "+---------+--------------+------------+-----------+------------+------------+-------------------+------------------+-------------------+-------------------+-------------------+\n",
      "only showing top 2 rows\n",
      "\n",
      "\n",
      "\n",
      "\n",
      "CityTypeStats\n",
      "+---------+-------+--------------+------------+-----------+------------+------------+-------------------+------------------+-------------------+-------------------+-------------------+\n",
      "|     City|   Type|InventoryCount|AveragePrice|MedianPrice|MinimumPrice|MaximumPrice|AverageDaysOnMarket|MedianDaysOnMarket|MinimumDaysOnMarket|MaximumDaysOnMarket|AveragePricePerSqft|\n",
      "+---------+-------+--------------+------------+-----------+------------+------------+-------------------+------------------+-------------------+-------------------+-------------------+\n",
      "|aberfoyle|modular|             1|   494900.00|  494900.00|   494900.00|   494900.00|              72.00|             72.00|              72.00|              72.00|             554.20|\n",
      "|    acton|   NULL|             1|  1800000.00| 1800000.00|  1800000.00|  1800000.00|             107.00|            107.00|             107.00|             107.00|             237.19|\n",
      "+---------+-------+--------------+------------+-----------+------------+------------+-------------------+------------------+-------------------+-------------------+-------------------+\n",
      "only showing top 2 rows\n",
      "\n",
      "\n",
      "\n",
      "\n",
      "CityPropertyTypeStats\n",
      "+---------+-------------+--------------+------------+-----------+------------+------------+-------------------+------------------+-------------------+-------------------+-------------------+\n",
      "|     City| PropertyType|InventoryCount|AveragePrice|MedianPrice|MinimumPrice|MaximumPrice|AverageDaysOnMarket|MedianDaysOnMarket|MinimumDaysOnMarket|MaximumDaysOnMarket|AveragePricePerSqft|\n",
      "+---------+-------------+--------------+------------+-----------+------------+------------+-------------------+------------------+-------------------+-------------------+-------------------+\n",
      "|aberfoyle|single family|             1|   494900.00|  494900.00|   494900.00|   494900.00|              72.00|             72.00|              72.00|              72.00|             554.20|\n",
      "|    acton| multi-family|             1|  1800000.00| 1800000.00|  1800000.00|  1800000.00|             107.00|            107.00|             107.00|             107.00|             237.19|\n",
      "+---------+-------------+--------------+------------+-----------+------------+------------+-------------------+------------------+-------------------+-------------------+-------------------+\n",
      "only showing top 2 rows\n",
      "\n",
      "\n",
      "\n",
      "\n",
      "CityBedroomsTotalStats\n",
      "+---------+-------------+--------------+------------+-----------+------------+------------+-------------------+------------------+-------------------+-------------------+-------------------+\n",
      "|     City|BedroomsTotal|InventoryCount|AveragePrice|MedianPrice|MinimumPrice|MaximumPrice|AverageDaysOnMarket|MedianDaysOnMarket|MinimumDaysOnMarket|MaximumDaysOnMarket|AveragePricePerSqft|\n",
      "+---------+-------------+--------------+------------+-----------+------------+------------+-------------------+------------------+-------------------+-------------------+-------------------+\n",
      "|aberfoyle|            1|             1|   494900.00|  494900.00|   494900.00|   494900.00|              72.00|             72.00|              72.00|              72.00|             554.20|\n",
      "|    acton|            2|             2|   944900.00|  899900.00|   899900.00|   989900.00|              40.50|             39.00|              39.00|              42.00|             713.73|\n",
      "+---------+-------------+--------------+------------+-----------+------------+------------+-------------------+------------------+-------------------+-------------------+-------------------+\n",
      "only showing top 2 rows\n",
      "\n",
      "\n",
      "\n",
      "\n",
      "CityOwnershipTypeStats\n",
      "+---------+-------------+--------------+------------+-----------+------------+------------+-------------------+------------------+-------------------+-------------------+-------------------+\n",
      "|     City|OwnershipType|InventoryCount|AveragePrice|MedianPrice|MinimumPrice|MaximumPrice|AverageDaysOnMarket|MedianDaysOnMarket|MinimumDaysOnMarket|MaximumDaysOnMarket|AveragePricePerSqft|\n",
      "+---------+-------------+--------------+------------+-----------+------------+------------+-------------------+------------------+-------------------+-------------------+-------------------+\n",
      "|aberfoyle|     freehold|             1|   494900.00|  494900.00|   494900.00|   494900.00|              72.00|             72.00|              72.00|              72.00|             554.20|\n",
      "|    acton|     freehold|            13|  1197152.92| 1249000.00|   825000.00|  1800000.00|              55.69|             52.00|              38.00|             107.00|             560.10|\n",
      "+---------+-------------+--------------+------------+-----------+------------+------------+-------------------+------------------+-------------------+-------------------+-------------------+\n",
      "only showing top 2 rows\n",
      "\n",
      "\n",
      "\n",
      "\n",
      "CityConstructionStyleAttachmentStats\n",
      "+---------+---------------------------+--------------+------------+-----------+------------+------------+-------------------+------------------+-------------------+-------------------+-------------------+\n",
      "|     City|ConstructionStyleAttachment|InventoryCount|AveragePrice|MedianPrice|MinimumPrice|MaximumPrice|AverageDaysOnMarket|MedianDaysOnMarket|MinimumDaysOnMarket|MaximumDaysOnMarket|AveragePricePerSqft|\n",
      "+---------+---------------------------+--------------+------------+-----------+------------+------------+-------------------+------------------+-------------------+-------------------+-------------------+\n",
      "|aberfoyle|                   detached|             1|   494900.00|  494900.00|   494900.00|   494900.00|              72.00|             72.00|              72.00|              72.00|             554.20|\n",
      "|    acton|                       NULL|             1|  1800000.00| 1800000.00|  1800000.00|  1800000.00|             107.00|            107.00|             107.00|             107.00|             237.19|\n",
      "+---------+---------------------------+--------------+------------+-----------+------------+------------+-------------------+------------------+-------------------+-------------------+-------------------+\n",
      "only showing top 2 rows\n",
      "\n",
      "\n",
      "\n",
      "\n"
     ]
    }
   ],
   "source": [
    "for key, value in df_stats.items():\n",
    "    print(key)\n",
    "    value.show(2)\n",
    "    print(\"\\n\\n\")   "
   ]
  },
  {
   "cell_type": "code",
   "execution_count": 9,
   "metadata": {},
   "outputs": [
    {
     "name": "stderr",
     "output_type": "stream",
     "text": [
      "                                                                                \r"
     ]
    }
   ],
   "source": [
    "table_names ={\n",
    "    \"CityStats\": \"rsbr.city_stats\",\n",
    "    \"CityTypeStats\": \"rsbr.city_type_stats\",\n",
    "    \"CityPropertyTypeStats\": \"rsbr.city_property_type_stats\",\n",
    "    \"CityBedroomsTotalStats\": \"rsbr.city_bedrooms_stats\",\n",
    "    \"CityOwnershipTypeStats\": \"rsbr.city_ownership_type_stats\",\n",
    "    \"CityConstructionStyleAttachmentStats\": \"rsbr.city_construction_style_stats\",\n",
    "}\n",
    "\n",
    "for key, value in df_stats.items():\n",
    "    value.write.jdbc(url=pg_url, table=table_names[key], mode=\"append\", properties=pg_props)"
   ]
  },
  {
   "cell_type": "code",
   "execution_count": 10,
   "metadata": {},
   "outputs": [
    {
     "name": "stderr",
     "output_type": "stream",
     "text": [
      "                                                                                \r"
     ]
    }
   ],
   "source": [
    "cities = [r.City for r in df_base.select(\"City\").distinct().sort(F.asc(\"City\")).collect()]\n",
    "city_types = [r.Type for r in df_base.select(\"Type\").filter(F.col(\"Type\").isNotNull()).distinct().sort(F.asc(\"Type\")).collect()]\n",
    "city_property_types = [r.PropertyType for r in df_base.select(\"PropertyType\").distinct().sort(F.asc(\"PropertyType\")).collect()]\n",
    "city_bedrooms = [str(r.BedroomsTotal) for r in df_base.select(\"BedroomsTotal\").distinct().sort(F.asc(\"BedroomsTotal\")).collect()]\n",
    "city_own_types = [r.OwnershipType for r in df_base.select(\"OwnershipType\").distinct().sort(F.asc(\"OwnershipType\")).collect()]\n",
    "city_construction_styles = [r.ConstructionStyleAttachment for r in df_base.select(\"ConstructionStyleAttachment\").distinct().sort(F.asc(\"ConstructionStyleAttachment\")).collect()]\n",
    "\n",
    "rows = [\n",
    "    Row(Attribute=\"City\", Values=cities),\n",
    "    Row(Attribute=\"Type\", Values=city_types),\n",
    "    Row(Attribute=\"PropertyType\", Values=city_property_types),\n",
    "    Row(Attribute=\"BedroomsTotal\", Values=city_bedrooms),\n",
    "    Row(Attribute=\"OwnershipType\", Values=city_own_types),\n",
    "    Row(Attribute=\"ConstructionStyleAttachment\", Values=city_construction_styles),\n",
    "]\n",
    "df_info = spark.createDataFrame(rows)\n",
    "df_info.write.jdbc(url=pg_url, table=\"rsbr.stats_info\", mode=\"append\", properties=pg_props)\n"
   ]
  },
  {
   "cell_type": "code",
   "execution_count": 14,
   "metadata": {},
   "outputs": [
    {
     "data": {
      "text/plain": [
       "[None, 'attached', 'detached', 'link', 'semi-detached', 'up and down']"
      ]
     },
     "execution_count": 14,
     "metadata": {},
     "output_type": "execute_result"
    }
   ],
   "source": [
    "city_construction_styles"
   ]
  },
  {
   "cell_type": "code",
   "execution_count": null,
   "metadata": {},
   "outputs": [],
   "source": [
    "# # Compute average and median prices by city\n",
    "# price_stats = (\n",
    "#     df_base.groupBy(\"City\", \"Type\", \"OwnershipType\", \"BedroomsTotal\", \"FSA\")\n",
    "#     .agg(\n",
    "#         F.count(\"City\").alias(\"InventoryLevel\"),\n",
    "#         F.avg(\"Price\").alias(\"AveragePrice\"),\n",
    "#         F.percentile_approx(\"Price\", 0.5).alias(\"MedianPrice\")\n",
    "#     )\n",
    "# )\n",
    "# print(price_stats.count())\n",
    "# price_stats.show(5)"
   ]
  },
  {
   "cell_type": "code",
   "execution_count": null,
   "metadata": {},
   "outputs": [],
   "source": [
    "# # Group by quarter and compute average price\n",
    "# trends = (\n",
    "#     df_base\n",
    "#     .groupBy(\"City\", \"Quarter\")\n",
    "#     .agg(F.avg(\"Price\").alias(\"AveragePrice\"))\n",
    "# )\n",
    "# trends.show(5)"
   ]
  },
  {
   "cell_type": "code",
   "execution_count": null,
   "metadata": {},
   "outputs": [],
   "source": [
    "# # Inventory levels by city and property type\n",
    "# inventory_levels = (\n",
    "#     df_base\n",
    "#     .groupBy(\"City\", \"PropertyType\")\n",
    "#     .agg(F.count(\"City\").alias(\"InventoryLevel\"))\n",
    "#     .orderBy(\"InventoryLevel\", ascending=False)\n",
    "# )\n",
    "# print(inventory_levels.count())\n",
    "# inventory_levels.show(5)"
   ]
  },
  {
   "cell_type": "code",
   "execution_count": null,
   "metadata": {},
   "outputs": [],
   "source": [
    "# # Rank properties and select those to compare\n",
    "# cma = (\n",
    "#     df_base\n",
    "#     .filter((F.col(\"TopRank\") <= 5) | (F.col(\"BottomRank\") <= 5))\n",
    "# )\n",
    "# print(cma.count())\n",
    "# cma.show(5)"
   ]
  },
  {
   "cell_type": "code",
   "execution_count": null,
   "metadata": {},
   "outputs": [],
   "source": [
    "# community_features = (\n",
    "#     df_base\n",
    "#     .groupBy(\"CommunityName\").agg(F.collect_set(\"AmenitiesNearBy\").alias(\"UniqueAmenities\"))\n",
    "# )\n",
    "# print(community_features.count())\n",
    "# community_features.show(5)"
   ]
  },
  {
   "cell_type": "code",
   "execution_count": null,
   "metadata": {},
   "outputs": [],
   "source": [
    "# price_per_sq_ft = (\n",
    "#     df_base\n",
    "#     .groupBy(\"City\")\n",
    "#     .agg(F.avg(\"PricePerSqFt\").alias(\"AvgPricePerSqFt\"))\n",
    "#     .orderBy(\"AvgPricePerSqFt\", ascending=False)\n",
    "# )\n",
    "# print(price_per_sq_ft.count())\n",
    "# price_per_sq_ft.show(100)"
   ]
  }
 ],
 "metadata": {
  "language_info": {
   "name": "python"
  }
 },
 "nbformat": 4,
 "nbformat_minor": 2
}
