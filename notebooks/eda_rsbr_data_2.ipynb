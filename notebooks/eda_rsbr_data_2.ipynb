{
 "cells": [
  {
   "cell_type": "code",
   "execution_count": 1,
   "metadata": {},
   "outputs": [
    {
     "data": {
      "text/plain": [
       "True"
      ]
     },
     "execution_count": 1,
     "metadata": {},
     "output_type": "execute_result"
    }
   ],
   "source": [
    "import os\n",
    "from pyspark.sql import SparkSession, DataFrame, Row\n",
    "from pyspark.sql import functions as F\n",
    "from pyspark.sql import types as T\n",
    "from pyspark.sql import window as W\n",
    "from pyspark.errors import AnalysisException\n",
    "\n",
    "\n",
    "from dotenv import load_dotenv\n",
    "\n",
    "os.environ[\"SPARK_VERSION\"] = \"3.3\"\n",
    "load_dotenv(\"../.env-deploy\", override=True)"
   ]
  },
  {
   "cell_type": "code",
   "execution_count": 2,
   "metadata": {},
   "outputs": [
    {
     "name": "stderr",
     "output_type": "stream",
     "text": [
      "24/05/19 03:42:39 WARN Utils: Your hostname, marley.local resolves to a loopback address: 127.0.0.1; using 10.0.0.135 instead (on interface en0)\n",
      "24/05/19 03:42:39 WARN Utils: Set SPARK_LOCAL_IP if you need to bind to another address\n",
      "24/05/19 03:42:40 WARN NativeCodeLoader: Unable to load native-hadoop library for your platform... using builtin-java classes where applicable\n",
      "Setting default log level to \"WARN\".\n",
      "To adjust logging level use sc.setLogLevel(newLevel). For SparkR, use setLogLevel(newLevel).\n"
     ]
    }
   ],
   "source": [
    "data_home = \"/Users/kwesi/Desktop/ai/gpts/mlsgpt/data\"\n",
    "jar_files = [\"postgresql-42.7.3.jar\", \"mysql-connector-j-8.0.33.jar\"]\n",
    "jar_opts = \",\".join([f\"{data_home}/jars/{jar}\" for jar in jar_files])\n",
    "warehouse = f\"{data_home}/warehouse\"\n",
    "\n",
    "spark: SparkSession = (\n",
    "    SparkSession.builder\\\n",
    "    .appName(\"MLSGPT\")\n",
    "    .config(\"spark.dynamicAllocation.enabled\", \"true\")\n",
    "    .config(\"spark.shuffle.service.enabled\", \"true\")\n",
    "    .config(\"spark.sql.warehouse.dir\", f\"{warehouse}\")\n",
    "    .config(\"spark.sql.session.timeZone\", \"UTC\")\n",
    "    .config(\"spark.jars\", f\"{jar_opts}\") \n",
    "    .enableHiveSupport()\n",
    "    .getOrCreate()\n",
    ")\n",
    "spark.sparkContext.setLogLevel(\"ERROR\")"
   ]
  },
  {
   "cell_type": "code",
   "execution_count": 3,
   "metadata": {},
   "outputs": [],
   "source": [
    "def read_table(url:str, props:dict, table_name: str, ) -> DataFrame:\n",
    "    try:\n",
    "        return spark.read.jdbc(url=url, table=table_name, properties=props)\n",
    "    except AnalysisException as e:\n",
    "        print(f\"Table {table_name} not found\")\n",
    "        return None\n",
    "    \n",
    "pg_url = \"jdbc:postgresql://{}:{}/{}\".format(os.getenv(\"POSTGRES_HOST\"), os.getenv(\"POSTGRES_PORT\"),os.getenv(\"POSTGRES_DB\"))\n",
    "pg_props = {\n",
    "    \"user\": os.getenv(\"POSTGRES_USER\"),\n",
    "    \"password\": os.getenv(\"POSTGRES_PASSWORD\"),\n",
    "    \"driver\": \"org.postgresql.Driver\"\n",
    "}\n",
    "tables = [\"rsbr.boards\", \"rsbr.office\", \"rsbr.agent\", \"rsbr.property\", \"rsbr.property_rooms\"]\n",
    "columns = [c.column for c in spark.read.csv(\"../data/columns_to_keep.csv\", header=True).collect()]\n",
    "df = (\n",
    "    read_table(pg_url, pg_props, \"rsbr.property\")    \n",
    "    .select(columns)\n",
    ")"
   ]
  },
  {
   "cell_type": "code",
   "execution_count": 4,
   "metadata": {},
   "outputs": [],
   "source": [
    "dom = (\n",
    "    F.when(F.col(\"Sold\") == 1, F.datediff(F.current_date(), F.to_date(\"ListingContractDate\", \"yyyy-MM-dd\")))\n",
    "    .otherwise(F.datediff(F.current_date(), F.to_date(\"ListingContractDate\", \"yyyy-MM-dd\")))\n",
    "    .alias(\"DaysOnMarket\")\n",
    ")\n",
    "sold = F.when(F.col(\"Sold\") == 1, \"Yes\").otherwise(\"No\").alias(\"Sold\")\n",
    "pp_sq_ft = F.round(F.col(\"Price\") / F.col(\"SizeInterior\"),2).alias(\"PricePerSqft\")\n",
    "win_top = W.Window.partitionBy(\"City\", \"PropertyType\").orderBy(F.desc(\"Price\"))\n",
    "win_bottom = W.Window.partitionBy(\"City\", \"PropertyType\").orderBy(F.asc(\"Price\"))\n",
    "df_base = df.select(\n",
    "    \"City\",\n",
    "    \"CommunityName\",\n",
    "    F.col(\"AmmenitiesNearby\").alias(\"AmenitiesNearby\"),\n",
    "    \"Type\",\n",
    "    \"PropertyType\",\n",
    "    \"OwnershipType\",\n",
    "    \"BedroomsTotal\",\n",
    "    \"BathroomTotal\",\n",
    "    F.substring(\"PostalCode\", 0,3).alias(\"FSA\"),\n",
    "    F.quarter(F.to_date(\"ListingContractDate\", \"yyyy-MM-dd\")).alias(\"Quarter\"),\n",
    "    F.year(F.to_date(\"ListingContractDate\", \"yyyy-MM-dd\")).alias(\"Year\"),\n",
    "    F.rank().over(win_top).alias(\"TopRank\"),\n",
    "    F.rank().over(win_bottom).alias(\"BottomRank\"),\n",
    "    dom,\n",
    "    sold,\n",
    "    pp_sq_ft,\n",
    "    \"Price\",\n",
    "    \"Lease\",\n",
    ").filter(F.col(\"Price\") > 0)"
   ]
  },
  {
   "cell_type": "code",
   "execution_count": 15,
   "metadata": {},
   "outputs": [],
   "source": [
    "groups = (\n",
    "    (\"City\",),\n",
    "    (\"City\", \"Type\"),\n",
    "    (\"City\", \"PropertyType\"),\n",
    "    (\"City\", \"BedroomsTotal\"),\n",
    ")\n",
    "\n",
    "agg_cols = (\n",
    "    F.count(\"*\").cast(T.IntegerType()).alias(\"InventoryCount\"),\n",
    "    F.avg(\"Price\").cast(T.DecimalType(15,2)).alias(\"AveragePrice\"),\n",
    "    F.percentile_approx(\"Price\", 0.5).cast(T.DecimalType(15,2)).alias(\"MedianPrice\"),\n",
    "    F.min(\"Price\").cast(T.DecimalType(15,2)).alias(\"MinimumPrice\"),\n",
    "    F.max(\"Price\").cast(T.DecimalType(15,2)).alias(\"MaximumPrice\"),\n",
    "    F.avg(\"DaysOnMarket\").cast(T.DecimalType(15,2)).alias(\"AverageDaysOnMarket\"),\n",
    "    F.percentile_approx(\"DaysOnMarket\", 0.5).cast(T.DecimalType(15,2)).alias(\"MedianDaysOnMarket\"),\n",
    "    F.min(\"DaysOnMarket\").cast(T.DecimalType(15,2)).alias(\"MinimumDaysOnMarket\"),\n",
    "    F.max(\"DaysOnMarket\").cast(T.DecimalType(15,2)).alias(\"MaximumDaysOnMarket\"),\n",
    "    F.avg(\"PricePerSqft\").cast(T.DecimalType(15,2)).alias(\"AveragePricePerSqft\"),\n",
    ")\n",
    "\n",
    "df_stats = {}\n",
    "for group in groups:\n",
    "    group_key = \"\".join(group) + \"Stats\"\n",
    "    df_stats[group_key] = df_base.groupBy(*group).agg(*agg_cols)"
   ]
  },
  {
   "cell_type": "code",
   "execution_count": 16,
   "metadata": {},
   "outputs": [
    {
     "name": "stdout",
     "output_type": "stream",
     "text": [
      "CityStats\n",
      "+-------------------+--------------+------------+-----------+------------+------------+-------------------+------------------+-------------------+-------------------+-------------------+\n",
      "|               City|InventoryCount|AveragePrice|MedianPrice|MinimumPrice|MaximumPrice|AverageDaysOnMarket|MedianDaysOnMarket|MinimumDaysOnMarket|MaximumDaysOnMarket|AveragePricePerSqft|\n",
      "+-------------------+--------------+------------+-----------+------------+------------+-------------------+------------------+-------------------+-------------------+-------------------+\n",
      "|          aberfoyle|             1|   494900.00|  494900.00|   494900.00|   494900.00|              53.00|             53.00|              53.00|              53.00|             554.20|\n",
      "|              acton|            13|  1197152.92| 1249000.00|   825000.00|  1800000.00|              36.69|             33.00|              19.00|              88.00|             560.10|\n",
      "|addington highlands|            22|   577268.05|  549900.00|    99900.00|  1895000.00|              53.50|             39.00|              16.00|             207.00|               NULL|\n",
      "|  adelaide metcalfe|             2|   684900.00|  339900.00|   339900.00|  1029900.00|              75.50|             26.00|              26.00|             125.00|               NULL|\n",
      "|  adjala-tosorontio|            57|  1885401.14| 1599999.00|   619000.00|  5750000.00|              49.61|             41.00|              13.00|             216.00|             753.86|\n",
      "|   admaston/bromley|             1|   824900.00|  824900.00|   824900.00|   824900.00|              34.00|             34.00|              34.00|              34.00|               NULL|\n",
      "|        ailsa craig|            21|   765300.00|  699900.00|   579900.00|  1150000.00|             118.19|            114.00|              16.00|             296.00|             418.78|\n",
      "|               ajax|           195|  1111413.69|  965000.00|        1.00|  6499900.00|              36.58|             25.00|              13.00|             216.00|             571.52|\n",
      "|              alban|             1|   669000.00|  669000.00|   669000.00|   669000.00|              17.00|             17.00|              17.00|              17.00|             619.44|\n",
      "|           alberton|             1|  1299000.00| 1299000.00|  1299000.00|  1299000.00|             299.00|            299.00|             299.00|             299.00|               NULL|\n",
      "+-------------------+--------------+------------+-----------+------------+------------+-------------------+------------------+-------------------+-------------------+-------------------+\n",
      "only showing top 10 rows\n",
      "\n",
      "\n",
      "\n",
      "\n",
      "CityTypeStats\n",
      "+-------------------+---------+--------------+------------+-----------+------------+------------+-------------------+------------------+-------------------+-------------------+-------------------+\n",
      "|               City|     Type|InventoryCount|AveragePrice|MedianPrice|MinimumPrice|MaximumPrice|AverageDaysOnMarket|MedianDaysOnMarket|MinimumDaysOnMarket|MaximumDaysOnMarket|AveragePricePerSqft|\n",
      "+-------------------+---------+--------------+------------+-----------+------------+------------+-------------------+------------------+-------------------+-------------------+-------------------+\n",
      "|          aberfoyle|  Modular|             1|   494900.00|  494900.00|   494900.00|   494900.00|              53.00|             53.00|              53.00|              53.00|             554.20|\n",
      "|              acton|     NULL|             1|  1800000.00| 1800000.00|  1800000.00|  1800000.00|              88.00|             88.00|              88.00|              88.00|             237.19|\n",
      "|              acton|    House|            12|  1146915.67| 1225000.00|   825000.00|  1399000.00|              32.42|             25.00|              19.00|              45.00|             587.01|\n",
      "|addington highlands|   Duplex|             2|   474000.00|  319000.00|   319000.00|   629000.00|              66.50|             39.00|              39.00|              94.00|               NULL|\n",
      "|addington highlands|    House|            20|   587594.85|  549900.00|    99900.00|  1895000.00|              52.20|             33.00|              16.00|             207.00|               NULL|\n",
      "|  adelaide metcalfe|    House|             2|   684900.00|  339900.00|   339900.00|  1029900.00|              75.50|             26.00|              26.00|             125.00|               NULL|\n",
      "|  adjala-tosorontio|    House|            57|  1885401.14| 1599999.00|   619000.00|  5750000.00|              49.61|             41.00|              13.00|             216.00|             753.86|\n",
      "|   admaston/bromley|    House|             1|   824900.00|  824900.00|   824900.00|   824900.00|              34.00|             34.00|              34.00|              34.00|               NULL|\n",
      "|        ailsa craig|    House|            21|   765300.00|  699900.00|   579900.00|  1150000.00|             118.19|            114.00|              16.00|             296.00|             418.78|\n",
      "|               ajax|Apartment|            10|   611950.00|  599000.00|   465000.00|   799900.00|              53.50|             34.00|              13.00|             170.00|               NULL|\n",
      "+-------------------+---------+--------------+------------+-----------+------------+------------+-------------------+------------------+-------------------+-------------------+-------------------+\n",
      "only showing top 10 rows\n",
      "\n",
      "\n",
      "\n",
      "\n",
      "CityPropertyTypeStats\n",
      "+-------------------+-------------+--------------+------------+-----------+------------+------------+-------------------+------------------+-------------------+-------------------+-------------------+\n",
      "|               City| PropertyType|InventoryCount|AveragePrice|MedianPrice|MinimumPrice|MaximumPrice|AverageDaysOnMarket|MedianDaysOnMarket|MinimumDaysOnMarket|MaximumDaysOnMarket|AveragePricePerSqft|\n",
      "+-------------------+-------------+--------------+------------+-----------+------------+------------+-------------------+------------------+-------------------+-------------------+-------------------+\n",
      "|          aberfoyle|Single Family|             1|   494900.00|  494900.00|   494900.00|   494900.00|              53.00|             53.00|              53.00|              53.00|             554.20|\n",
      "|              acton| Multi-family|             1|  1800000.00| 1800000.00|  1800000.00|  1800000.00|              88.00|             88.00|              88.00|              88.00|             237.19|\n",
      "|              acton|Single Family|            12|  1146915.67| 1225000.00|   825000.00|  1399000.00|              32.42|             25.00|              19.00|              45.00|             587.01|\n",
      "|addington highlands|Single Family|            22|   577268.05|  549900.00|    99900.00|  1895000.00|              53.50|             39.00|              16.00|             207.00|               NULL|\n",
      "|  adelaide metcalfe|Single Family|             2|   684900.00|  339900.00|   339900.00|  1029900.00|              75.50|             26.00|              26.00|             125.00|               NULL|\n",
      "|  adjala-tosorontio|Single Family|            57|  1885401.14| 1599999.00|   619000.00|  5750000.00|              49.61|             41.00|              13.00|             216.00|             753.86|\n",
      "|   admaston/bromley|Single Family|             1|   824900.00|  824900.00|   824900.00|   824900.00|              34.00|             34.00|              34.00|              34.00|               NULL|\n",
      "|        ailsa craig|Single Family|            21|   765300.00|  699900.00|   579900.00|  1150000.00|             118.19|            114.00|              16.00|             296.00|             418.78|\n",
      "|               ajax|Single Family|           195|  1111413.69|  965000.00|        1.00|  6499900.00|              36.58|             25.00|              13.00|             216.00|             571.52|\n",
      "|              alban|Single Family|             1|   669000.00|  669000.00|   669000.00|   669000.00|              17.00|             17.00|              17.00|              17.00|             619.44|\n",
      "+-------------------+-------------+--------------+------------+-----------+------------+------------+-------------------+------------------+-------------------+-------------------+-------------------+\n",
      "only showing top 10 rows\n",
      "\n",
      "\n",
      "\n",
      "\n",
      "CityBedroomsTotalStats\n",
      "+-------------------+-------------+--------------+------------+-----------+------------+------------+-------------------+------------------+-------------------+-------------------+-------------------+\n",
      "|               City|BedroomsTotal|InventoryCount|AveragePrice|MedianPrice|MinimumPrice|MaximumPrice|AverageDaysOnMarket|MedianDaysOnMarket|MinimumDaysOnMarket|MaximumDaysOnMarket|AveragePricePerSqft|\n",
      "+-------------------+-------------+--------------+------------+-----------+------------+------------+-------------------+------------------+-------------------+-------------------+-------------------+\n",
      "|          aberfoyle|            1|             1|   494900.00|  494900.00|   494900.00|   494900.00|              53.00|             53.00|              53.00|              53.00|             554.20|\n",
      "|              acton|            2|             2|   944900.00|  899900.00|   899900.00|   989900.00|              21.50|             20.00|              20.00|              23.00|             713.73|\n",
      "|              acton|            3|             3|  1124333.33| 1249000.00|   825000.00|  1299000.00|              38.33|             45.00|              25.00|              45.00|             636.58|\n",
      "|              acton|            4|             6|  1261714.67| 1297500.00|   999888.00|  1399000.00|              31.67|             25.00|              19.00|              45.00|             530.98|\n",
      "|              acton|            5|             1|   929900.00|  929900.00|   929900.00|   929900.00|              41.00|             41.00|              41.00|              41.00|             521.04|\n",
      "|              acton|            8|             1|  1800000.00| 1800000.00|  1800000.00|  1800000.00|              88.00|             88.00|              88.00|              88.00|             237.19|\n",
      "|addington highlands|            1|             1|   109000.00|  109000.00|   109000.00|   109000.00|              19.00|             19.00|              19.00|              19.00|               NULL|\n",
      "|addington highlands|            2|             5|   493760.00|  475000.00|   145000.00|   799000.00|              33.20|             19.00|              16.00|              64.00|               NULL|\n",
      "|addington highlands|            3|             9|   658577.56|  549998.00|    99900.00|  1895000.00|              65.44|             33.00|              16.00|             207.00|               NULL|\n",
      "|addington highlands|            4|             5|   603199.80|  599000.00|   319000.00|   899999.00|              57.00|             60.00|              18.00|              94.00|               NULL|\n",
      "+-------------------+-------------+--------------+------------+-----------+------------+------------+-------------------+------------------+-------------------+-------------------+-------------------+\n",
      "only showing top 10 rows\n",
      "\n",
      "\n",
      "\n",
      "\n"
     ]
    }
   ],
   "source": [
    "for key, value in df_stats.items():\n",
    "    print(key)\n",
    "    value.show(10)\n",
    "    print(\"\\n\\n\")   "
   ]
  },
  {
   "cell_type": "code",
   "execution_count": 18,
   "metadata": {},
   "outputs": [
    {
     "name": "stderr",
     "output_type": "stream",
     "text": [
      "                                                                                \r"
     ]
    }
   ],
   "source": [
    "# table_names ={\n",
    "#     \"CityStats\": \"rsbr.city_stats\",\n",
    "#     \"CityTypeStats\": \"rsbr.city_type_stats\",\n",
    "#     \"CityPropertyTypeStats\": \"rsbr.city_property_type_stats\",\n",
    "#     \"CityBedroomsTotalStats\": \"rsbr.city_bedrooms_stats\",\n",
    "# }\n",
    "\n",
    "# for key, value in df_stats.items():\n",
    "#     # value.describe().show(vertical=True) \n",
    "#     value.write.jdbc(url=pg_url, table=table_names[key], mode=\"append\", properties=pg_props)"
   ]
  },
  {
   "cell_type": "code",
   "execution_count": 29,
   "metadata": {},
   "outputs": [],
   "source": [
    "cities = [r.City for r in df_base.select(\"City\").distinct().sort(F.asc(\"City\")).collect()]\n",
    "city_types = [r.Type for r in df_base.select(\"Type\").filter(F.col(\"Type\").isNotNull()).distinct().sort(F.asc(\"Type\")).collect()]\n",
    "property_types = [r.PropertyType for r in df_base.select(\"PropertyType\").distinct().sort(F.asc(\"PropertyType\")).collect()]\n",
    "bedrooms = [str(r.BedroomsTotal) for r in df_base.select(\"BedroomsTotal\").distinct().sort(F.asc(\"BedroomsTotal\")).collect()]\n",
    "\n",
    "rows = [\n",
    "    Row(Attribute=\"City\", Values=cities),\n",
    "    Row(Attribute=\"Type\", Values=city_types),\n",
    "    Row(Attribute=\"PropertyType\", Values=property_types),\n",
    "    Row(Attribute=\"BedroomsTotal\", Values=bedrooms),\n",
    "]\n",
    "df_info = spark.createDataFrame(rows)\n"
   ]
  },
  {
   "cell_type": "code",
   "execution_count": 30,
   "metadata": {},
   "outputs": [
    {
     "name": "stdout",
     "output_type": "stream",
     "text": [
      "-RECORD 0-------------------------\n",
      " Attribute | City                 \n",
      " Values    | [aberfoyle, acton... \n",
      "-RECORD 1-------------------------\n",
      " Attribute | Type                 \n",
      " Values    | [Apartment, Comme... \n",
      "-RECORD 2-------------------------\n",
      " Attribute | PropertyType         \n",
      " Values    | [Multi-family, Si... \n",
      "-RECORD 3-------------------------\n",
      " Attribute | BedroomsTotal        \n",
      " Values    | [0, 1, 2, 3, 4, 5... \n",
      "\n"
     ]
    }
   ],
   "source": [
    "df_info.show(vertical=True)"
   ]
  },
  {
   "cell_type": "code",
   "execution_count": 31,
   "metadata": {},
   "outputs": [],
   "source": [
    "df_info.write.jdbc(url=pg_url, table=\"rsbr.stats_info\", mode=\"append\", properties=pg_props)"
   ]
  },
  {
   "cell_type": "code",
   "execution_count": 8,
   "metadata": {
    "vscode": {
     "languageId": "ruby"
    }
   },
   "outputs": [],
   "source": [
    "# # Compute average and median prices by city\n",
    "# price_stats = (\n",
    "#     df_base.groupBy(\"City\", \"Type\", \"OwnershipType\", \"BedroomsTotal\", \"FSA\")\n",
    "#     .agg(\n",
    "#         F.count(\"City\").alias(\"InventoryLevel\"),\n",
    "#         F.avg(\"Price\").alias(\"AveragePrice\"),\n",
    "#         F.percentile_approx(\"Price\", 0.5).alias(\"MedianPrice\")\n",
    "#     )\n",
    "# )\n",
    "# print(price_stats.count())\n",
    "# price_stats.show(5)"
   ]
  },
  {
   "cell_type": "code",
   "execution_count": 9,
   "metadata": {
    "vscode": {
     "languageId": "ruby"
    }
   },
   "outputs": [],
   "source": [
    "# # Group by quarter and compute average price\n",
    "# trends = (\n",
    "#     df_base\n",
    "#     .groupBy(\"City\", \"Quarter\")\n",
    "#     .agg(F.avg(\"Price\").alias(\"AveragePrice\"))\n",
    "# )\n",
    "# trends.show(5)"
   ]
  },
  {
   "cell_type": "code",
   "execution_count": 10,
   "metadata": {
    "vscode": {
     "languageId": "ruby"
    }
   },
   "outputs": [],
   "source": [
    "# # Inventory levels by city and property type\n",
    "# inventory_levels = (\n",
    "#     df_base\n",
    "#     .groupBy(\"City\", \"PropertyType\")\n",
    "#     .agg(F.count(\"City\").alias(\"InventoryLevel\"))\n",
    "#     .orderBy(\"InventoryLevel\", ascending=False)\n",
    "# )\n",
    "# print(inventory_levels.count())\n",
    "# inventory_levels.show(5)"
   ]
  },
  {
   "cell_type": "code",
   "execution_count": 11,
   "metadata": {
    "vscode": {
     "languageId": "ruby"
    }
   },
   "outputs": [],
   "source": [
    "# # Rank properties and select those to compare\n",
    "# cma = (\n",
    "#     df_base\n",
    "#     .filter((F.col(\"TopRank\") <= 5) | (F.col(\"BottomRank\") <= 5))\n",
    "# )\n",
    "# print(cma.count())\n",
    "# cma.show(5)"
   ]
  },
  {
   "cell_type": "code",
   "execution_count": 12,
   "metadata": {
    "vscode": {
     "languageId": "ruby"
    }
   },
   "outputs": [],
   "source": [
    "# community_features = (\n",
    "#     df_base\n",
    "#     .groupBy(\"CommunityName\").agg(F.collect_set(\"AmenitiesNearBy\").alias(\"UniqueAmenities\"))\n",
    "# )\n",
    "# print(community_features.count())\n",
    "# community_features.show(5)"
   ]
  },
  {
   "cell_type": "code",
   "execution_count": 13,
   "metadata": {
    "vscode": {
     "languageId": "ruby"
    }
   },
   "outputs": [],
   "source": [
    "# price_per_sq_ft = (\n",
    "#     df_base\n",
    "#     .groupBy(\"City\")\n",
    "#     .agg(F.avg(\"PricePerSqFt\").alias(\"AvgPricePerSqFt\"))\n",
    "#     .orderBy(\"AvgPricePerSqFt\", ascending=False)\n",
    "# )\n",
    "# print(price_per_sq_ft.count())\n",
    "# price_per_sq_ft.show(100)"
   ]
  }
 ],
 "metadata": {
  "kernelspec": {
   "display_name": ".venv",
   "language": "python",
   "name": "python3"
  },
  "language_info": {
   "codemirror_mode": {
    "name": "ipython",
    "version": 3
   },
   "file_extension": ".py",
   "mimetype": "text/x-python",
   "name": "python",
   "nbconvert_exporter": "python",
   "pygments_lexer": "ipython3",
   "version": "3.12.1"
  }
 },
 "nbformat": 4,
 "nbformat_minor": 2
}
