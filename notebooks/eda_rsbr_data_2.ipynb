{
 "cells": [
  {
   "cell_type": "code",
   "execution_count": 28,
   "metadata": {},
   "outputs": [
    {
     "data": {
      "text/plain": [
       "True"
      ]
     },
     "execution_count": 28,
     "metadata": {},
     "output_type": "execute_result"
    }
   ],
   "source": [
    "import os\n",
    "from pyspark.sql import SparkSession, DataFrame, Row\n",
    "from pyspark.sql import functions as F\n",
    "from pyspark.sql import types as T\n",
    "from pyspark.errors import AnalysisException\n",
    "\n",
    "\n",
    "from dotenv import load_dotenv\n",
    "\n",
    "os.environ[\"SPARK_VERSION\"] = \"3.3\"\n",
    "load_dotenv(\"../.env-deploy\", override=True)"
   ]
  },
  {
   "cell_type": "code",
   "execution_count": 2,
   "metadata": {},
   "outputs": [
    {
     "name": "stderr",
     "output_type": "stream",
     "text": [
      "24/05/17 11:37:03 WARN Utils: Your hostname, marley.local resolves to a loopback address: 127.0.0.1; using 10.0.0.135 instead (on interface en0)\n",
      "24/05/17 11:37:03 WARN Utils: Set SPARK_LOCAL_IP if you need to bind to another address\n",
      "24/05/17 11:37:03 WARN NativeCodeLoader: Unable to load native-hadoop library for your platform... using builtin-java classes where applicable\n",
      "Setting default log level to \"WARN\".\n",
      "To adjust logging level use sc.setLogLevel(newLevel). For SparkR, use setLogLevel(newLevel).\n"
     ]
    }
   ],
   "source": [
    "data_home = \"/Users/kwesi/Desktop/ai/gpts/mlsgpt/data\"\n",
    "jar_files = [\"postgresql-42.7.3.jar\", \"mysql-connector-j-8.0.33.jar\"]\n",
    "jar_opts = \",\".join([f\"{data_home}/jars/{jar}\" for jar in jar_files])\n",
    "warehouse = f\"{data_home}/warehouse\"\n",
    "\n",
    "spark: SparkSession = (\n",
    "    SparkSession.builder\\\n",
    "    .appName(\"MLSGPT\")\n",
    "    .config(\"spark.dynamicAllocation.enabled\", \"true\")\n",
    "    .config(\"spark.shuffle.service.enabled\", \"true\")\n",
    "    .config(\"spark.sql.warehouse.dir\", f\"{warehouse}\")\n",
    "    .config(\"spark.sql.session.timeZone\", \"UTC\")\n",
    "    .config(\"spark.jars\", f\"{jar_opts}\") \n",
    "    .enableHiveSupport()\n",
    "    .getOrCreate()\n",
    ")\n",
    "spark.sparkContext.setLogLevel(\"ERROR\")"
   ]
  },
  {
   "cell_type": "code",
   "execution_count": 3,
   "metadata": {},
   "outputs": [],
   "source": [
    "def read_table(url:str, props:dict, table_name: str, ) -> DataFrame:\n",
    "    try:\n",
    "        return spark.read.jdbc(url=url, table=table_name, properties=props)\n",
    "    except AnalysisException as e:\n",
    "        print(f\"Table {table_name} not found\")\n",
    "        return None\n",
    "    \n",
    "pg_url = \"jdbc:postgresql://{}:{}/{}\".format(os.getenv(\"POSTGRES_HOST\"), os.getenv(\"POSTGRES_PORT\"),os.getenv(\"POSTGRES_DB\"))\n",
    "pg_props = {\n",
    "    \"user\": os.getenv(\"POSTGRES_USER\"),\n",
    "    \"password\": os.getenv(\"POSTGRES_PASSWORD\"),\n",
    "    \"driver\": \"org.postgresql.Driver\"\n",
    "}\n",
    "tables = [\"rsbr.boards\", \"rsbr.office\", \"rsbr.agent\", \"rsbr.property\", \"rsbr.property_rooms\"]\n",
    "df = read_table(pg_url, pg_props, \"rsbr.property\")    "
   ]
  },
  {
   "cell_type": "code",
   "execution_count": 40,
   "metadata": {
    "vscode": {
     "languageId": "ruby"
    }
   },
   "outputs": [
    {
     "name": "stderr",
     "output_type": "stream",
     "text": [
      "                                                                                \r"
     ]
    }
   ],
   "source": [
    "total = df.count()\n",
    "rows = [\n",
    "    Row(column=k, count=int(v), null_ratio=round(int(v)/total,4)) \n",
    "    for k,v in df.describe().collect()[0].asDict().items() if v != \"count\"\n",
    "]\n",
    "df4 = spark.createDataFrame(rows)"
   ]
  },
  {
   "cell_type": "code",
   "execution_count": 45,
   "metadata": {
    "vscode": {
     "languageId": "ruby"
    }
   },
   "outputs": [],
   "source": [
    "df4.toPandas().to_csv(\"../data/summary.csv\", index=False)"
   ]
  },
  {
   "cell_type": "code",
   "execution_count": 62,
   "metadata": {
    "vscode": {
     "languageId": "ruby"
    }
   },
   "outputs": [
    {
     "name": "stdout",
     "output_type": "stream",
     "text": [
      "+-----+\n",
      "|Board|\n",
      "+-----+\n",
      "|   14|\n",
      "|   14|\n",
      "|   14|\n",
      "|   14|\n",
      "|   14|\n",
      "|   14|\n",
      "|   14|\n",
      "|   14|\n",
      "|   14|\n",
      "|   14|\n",
      "|   14|\n",
      "|   14|\n",
      "|   14|\n",
      "|   14|\n",
      "|   14|\n",
      "|  114|\n",
      "|   14|\n",
      "|   14|\n",
      "|   14|\n",
      "|   14|\n",
      "+-----+\n",
      "only showing top 20 rows\n",
      "\n"
     ]
    },
    {
     "name": "stderr",
     "output_type": "stream",
     "text": [
      "                                                                                \r"
     ]
    }
   ],
   "source": [
    "df.select(\"Board\").show()"
   ]
  },
  {
   "cell_type": "code",
   "execution_count": 58,
   "metadata": {
    "vscode": {
     "languageId": "ruby"
    }
   },
   "outputs": [],
   "source": [
    "df5 = spark.read.csv(\"../data/columns_to_keep.csv\", header=True)"
   ]
  },
  {
   "cell_type": "code",
   "execution_count": 60,
   "metadata": {
    "vscode": {
     "languageId": "ruby"
    }
   },
   "outputs": [],
   "source": [
    "columns = [c.column for c in df5.collect()]\n",
    "df6 = df.select(columns)"
   ]
  },
  {
   "cell_type": "code",
   "execution_count": 61,
   "metadata": {
    "vscode": {
     "languageId": "ruby"
    }
   },
   "outputs": [
    {
     "name": "stdout",
     "output_type": "stream",
     "text": [
      "root\n",
      " |-- property_id: long (nullable = true)\n",
      " |-- PostID: long (nullable = true)\n",
      " |-- Offices: string (nullable = true)\n",
      " |-- Agents: string (nullable = true)\n",
      " |-- Board: string (nullable = true)\n",
      " |-- ListingID: long (nullable = true)\n",
      " |-- LastUpdated: string (nullable = true)\n",
      " |-- Latitude: string (nullable = true)\n",
      " |-- Longitude: string (nullable = true)\n",
      " |-- AmmenitiesNearBy: string (nullable = true)\n",
      " |-- CommunityFeatures: string (nullable = true)\n",
      " |-- Features: string (nullable = true)\n",
      " |-- Lease: decimal(38,2) (nullable = true)\n",
      " |-- ListingContractDate: string (nullable = true)\n",
      " |-- LocationDescription: string (nullable = true)\n",
      " |-- MaintenanceFee: string (nullable = true)\n",
      " |-- ManagementCompany: string (nullable = true)\n",
      " |-- OwnershipType: string (nullable = true)\n",
      " |-- ParkingSpaceTotal: string (nullable = true)\n",
      " |-- PoolType: string (nullable = true)\n",
      " |-- Price: decimal(38,2) (nullable = true)\n",
      " |-- PropertyType: string (nullable = true)\n",
      " |-- PublicRemarks: string (nullable = true)\n",
      " |-- TransactionType: string (nullable = true)\n",
      " |-- ZoningDescription: string (nullable = true)\n",
      " |-- MoreInformationLink: string (nullable = true)\n",
      " |-- BathroomTotal: short (nullable = true)\n",
      " |-- BedroomsAboveGround: short (nullable = true)\n",
      " |-- BedroomsBelowGround: short (nullable = true)\n",
      " |-- BedroomsTotal: short (nullable = true)\n",
      " |-- Amenities: string (nullable = true)\n",
      " |-- Appliances: string (nullable = true)\n",
      " |-- ArchitecturalStyle: string (nullable = true)\n",
      " |-- BasementDevelopment: string (nullable = true)\n",
      " |-- BasementFeatures: string (nullable = true)\n",
      " |-- BasementType: string (nullable = true)\n",
      " |-- ConstructedDate: string (nullable = true)\n",
      " |-- ConstructionStyleAttachment: string (nullable = true)\n",
      " |-- CoolingType: string (nullable = true)\n",
      " |-- ExteriorFinish: string (nullable = true)\n",
      " |-- FireplacePresent: string (nullable = true)\n",
      " |-- FoundationType: string (nullable = true)\n",
      " |-- HalfBathTotal: short (nullable = true)\n",
      " |-- HeatingFuel: string (nullable = true)\n",
      " |-- HeatingType: string (nullable = true)\n",
      " |-- StoriesTotal: integer (nullable = true)\n",
      " |-- SizeInterior: string (nullable = true)\n",
      " |-- Type: string (nullable = true)\n",
      " |-- SizeTotalText: string (nullable = true)\n",
      " |-- SizeFrontage: string (nullable = true)\n",
      " |-- AccessType: string (nullable = true)\n",
      " |-- Acreage: string (nullable = true)\n",
      " |-- LandAmenities: string (nullable = true)\n",
      " |-- SizeDepth: string (nullable = true)\n",
      " |-- SizeIrregular: string (nullable = true)\n",
      " |-- StreetAddress: string (nullable = true)\n",
      " |-- AddressLine1: string (nullable = true)\n",
      " |-- City: string (nullable = true)\n",
      " |-- Province: string (nullable = true)\n",
      " |-- PostalCode: string (nullable = true)\n",
      " |-- Country: string (nullable = true)\n",
      " |-- CommunityName: string (nullable = true)\n",
      " |-- CustomListing: integer (nullable = true)\n",
      " |-- Sold: integer (nullable = true)\n",
      " |-- AlternateURL: binary (nullable = true)\n",
      "\n"
     ]
    }
   ],
   "source": [
    "df6.printSchema()"
   ]
  },
  {
   "cell_type": "code",
   "execution_count": null,
   "metadata": {
    "vscode": {
     "languageId": "ruby"
    }
   },
   "outputs": [],
   "source": []
  }
 ],
 "metadata": {
  "kernelspec": {
   "display_name": ".venv",
   "language": "python",
   "name": "python3"
  },
  "language_info": {
   "codemirror_mode": {
    "name": "ipython",
    "version": 3
   },
   "file_extension": ".py",
   "mimetype": "text/x-python",
   "name": "python",
   "nbconvert_exporter": "python",
   "pygments_lexer": "ipython3",
   "version": "3.12.1"
  }
 },
 "nbformat": 4,
 "nbformat_minor": 2
}
