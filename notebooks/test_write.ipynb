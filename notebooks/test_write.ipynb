{
 "cells": [
  {
   "cell_type": "code",
   "execution_count": 1,
   "metadata": {},
   "outputs": [
    {
     "data": {
      "text/plain": [
       "True"
      ]
     },
     "execution_count": 1,
     "metadata": {},
     "output_type": "execute_result"
    }
   ],
   "source": [
    "import json\n",
    "import os\n",
    "from mlsgpt import store\n",
    "from dotenv import load_dotenv\n",
    "\n",
    "load_dotenv(\"../.env-deploy\", override=True)\n"
   ]
  },
  {
   "cell_type": "code",
   "execution_count": 2,
   "metadata": {},
   "outputs": [
    {
     "name": "stderr",
     "output_type": "stream",
     "text": [
      "[2024-04-28 17:56:17,144] [98429] [INFO] [results-table]: Schema `mlsv2` created\n",
      "[2024-04-28 17:56:17,261] [98429] [INFO] [results-table]: Table `results` created\n"
     ]
    }
   ],
   "source": [
    "with open(\"../data/data.json\", \"r\") as f:\n",
    "    data = json.load(f) \n",
    "writer = store.DataWriter()"
   ]
  },
  {
   "cell_type": "code",
   "execution_count": 3,
   "metadata": {},
   "outputs": [],
   "source": [
    "for result in data:\n",
    "    result[\"request_id\"] = result[\"id\"]\n",
    "    writer.save(result)"
   ]
  },
  {
   "cell_type": "code",
   "execution_count": null,
   "metadata": {},
   "outputs": [],
   "source": []
  }
 ],
 "metadata": {
  "kernelspec": {
   "display_name": ".venv",
   "language": "python",
   "name": "python3"
  },
  "language_info": {
   "codemirror_mode": {
    "name": "ipython",
    "version": 3
   },
   "file_extension": ".py",
   "mimetype": "text/x-python",
   "name": "python",
   "nbconvert_exporter": "python",
   "pygments_lexer": "ipython3",
   "version": "3.12.1"
  }
 },
 "nbformat": 4,
 "nbformat_minor": 2
}
